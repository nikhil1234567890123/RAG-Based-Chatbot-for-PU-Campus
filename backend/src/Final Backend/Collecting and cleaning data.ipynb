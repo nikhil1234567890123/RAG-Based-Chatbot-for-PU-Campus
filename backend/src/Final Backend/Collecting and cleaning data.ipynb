{
 "cells": [
  {
   "cell_type": "code",
   "execution_count": 9,
   "id": "4faecba1-0efa-4b4a-8baa-d47041d5344c",
   "metadata": {},
   "outputs": [
    {
     "name": "stdout",
     "output_type": "stream",
     "text": [
      "\n",
      "📄 Extracting from: handbook.pdf\n"
     ]
    },
    {
     "name": "stderr",
     "output_type": "stream",
     "text": [
      "Processing pages: 100%|██████████████████████████████████████████████████████████████| 45/45 [00:31<00:00,  1.42page/s]\n"
     ]
    },
    {
     "name": "stdout",
     "output_type": "stream",
     "text": [
      "\n",
      "📄 Extracting from: handbook_c.pdf\n"
     ]
    },
    {
     "name": "stderr",
     "output_type": "stream",
     "text": [
      "Processing pages: 100%|████████████████████████████████████████████████████████████| 129/129 [03:30<00:00,  1.63s/page]\n"
     ]
    },
    {
     "name": "stdout",
     "output_type": "stream",
     "text": [
      "\n",
      "📄 Extracting from: hbi-2025-faculty-of-arts.pdf\n"
     ]
    },
    {
     "name": "stderr",
     "output_type": "stream",
     "text": [
      "Processing pages: 100%|██████████████████████████████████████████████████████████████| 33/33 [00:36<00:00,  1.10s/page]\n"
     ]
    },
    {
     "name": "stdout",
     "output_type": "stream",
     "text": [
      "\n",
      "📄 Extracting from: hbi-2025-faculty-of-business.pdf\n"
     ]
    },
    {
     "name": "stderr",
     "output_type": "stream",
     "text": [
      "Processing pages:  38%|████████████████████████                                       | 8/21 [00:08<00:17,  1.34s/page]Cannot set gray non-stroke color because /'Pattern1' is an invalid float value\n",
      "Cannot set gray non-stroke color because /'Pattern2' is an invalid float value\n",
      "Cannot set gray non-stroke color because /'Pattern3' is an invalid float value\n",
      "Cannot set gray non-stroke color because /'Pattern4' is an invalid float value\n",
      "Cannot set gray non-stroke color because /'Pattern5' is an invalid float value\n",
      "Cannot set gray non-stroke color because /'Pattern6' is an invalid float value\n",
      "Cannot set gray non-stroke color because /'Pattern7' is an invalid float value\n",
      "Cannot set gray non-stroke color because /'Pattern8' is an invalid float value\n",
      "Cannot set gray non-stroke color because /'Pattern9' is an invalid float value\n",
      "Cannot set gray non-stroke color because /'Pattern10' is an invalid float value\n",
      "Cannot set gray non-stroke color because /'Pattern11' is an invalid float value\n",
      "Cannot set gray non-stroke color because /'Pattern12' is an invalid float value\n",
      "Cannot set gray non-stroke color because /'Pattern13' is an invalid float value\n",
      "Cannot set gray non-stroke color because /'Pattern14' is an invalid float value\n",
      "Cannot set gray non-stroke color because /'Pattern15' is an invalid float value\n",
      "Cannot set gray non-stroke color because /'Pattern16' is an invalid float value\n",
      "Cannot set gray non-stroke color because /'Pattern17' is an invalid float value\n",
      "Cannot set gray non-stroke color because /'Pattern18' is an invalid float value\n",
      "Cannot set gray non-stroke color because /'Pattern19' is an invalid float value\n",
      "Cannot set gray non-stroke color because /'Pattern20' is an invalid float value\n",
      "Cannot set gray non-stroke color because /'Pattern21' is an invalid float value\n",
      "Cannot set gray non-stroke color because /'Pattern22' is an invalid float value\n",
      "Cannot set gray non-stroke color because /'Pattern23' is an invalid float value\n",
      "Processing pages:  43%|███████████████████████████                                    | 9/21 [00:10<00:16,  1.36s/page]Cannot set gray non-stroke color because /'Pattern1' is an invalid float value\n",
      "Cannot set gray non-stroke color because /'Pattern2' is an invalid float value\n",
      "Cannot set gray non-stroke color because /'Pattern3' is an invalid float value\n",
      "Cannot set gray non-stroke color because /'Pattern4' is an invalid float value\n",
      "Cannot set gray non-stroke color because /'Pattern5' is an invalid float value\n",
      "Cannot set gray non-stroke color because /'Pattern6' is an invalid float value\n",
      "Cannot set gray non-stroke color because /'Pattern7' is an invalid float value\n",
      "Cannot set gray non-stroke color because /'Pattern8' is an invalid float value\n",
      "Cannot set gray non-stroke color because /'Pattern9' is an invalid float value\n",
      "Cannot set gray non-stroke color because /'Pattern10' is an invalid float value\n",
      "Cannot set gray non-stroke color because /'Pattern11' is an invalid float value\n",
      "Cannot set gray non-stroke color because /'Pattern12' is an invalid float value\n",
      "Cannot set gray non-stroke color because /'Pattern13' is an invalid float value\n",
      "Cannot set gray non-stroke color because /'Pattern14' is an invalid float value\n",
      "Cannot set gray non-stroke color because /'Pattern15' is an invalid float value\n",
      "Cannot set gray non-stroke color because /'Pattern16' is an invalid float value\n",
      "Cannot set gray non-stroke color because /'Pattern17' is an invalid float value\n",
      "Cannot set gray non-stroke color because /'Pattern18' is an invalid float value\n",
      "Cannot set gray non-stroke color because /'Pattern19' is an invalid float value\n",
      "Processing pages:  48%|█████████████████████████████▌                                | 10/21 [00:11<00:15,  1.43s/page]Cannot set gray non-stroke color because /'Pattern1' is an invalid float value\n",
      "Cannot set gray non-stroke color because /'Pattern2' is an invalid float value\n",
      "Cannot set gray non-stroke color because /'Pattern3' is an invalid float value\n",
      "Cannot set gray non-stroke color because /'Pattern4' is an invalid float value\n",
      "Cannot set gray non-stroke color because /'Pattern5' is an invalid float value\n",
      "Cannot set gray non-stroke color because /'Pattern6' is an invalid float value\n",
      "Cannot set gray non-stroke color because /'Pattern7' is an invalid float value\n",
      "Cannot set gray non-stroke color because /'Pattern8' is an invalid float value\n",
      "Cannot set gray non-stroke color because /'Pattern9' is an invalid float value\n",
      "Cannot set gray non-stroke color because /'Pattern10' is an invalid float value\n",
      "Cannot set gray non-stroke color because /'Pattern11' is an invalid float value\n",
      "Cannot set gray non-stroke color because /'Pattern12' is an invalid float value\n",
      "Cannot set gray non-stroke color because /'Pattern13' is an invalid float value\n",
      "Cannot set gray non-stroke color because /'Pattern14' is an invalid float value\n",
      "Cannot set gray non-stroke color because /'Pattern15' is an invalid float value\n",
      "Cannot set gray non-stroke color because /'Pattern16' is an invalid float value\n",
      "Cannot set gray non-stroke color because /'Pattern17' is an invalid float value\n",
      "Cannot set gray non-stroke color because /'Pattern18' is an invalid float value\n",
      "Cannot set gray non-stroke color because /'Pattern19' is an invalid float value\n",
      "Cannot set gray non-stroke color because /'Pattern20' is an invalid float value\n",
      "Cannot set gray non-stroke color because /'Pattern21' is an invalid float value\n",
      "Cannot set gray non-stroke color because /'Pattern22' is an invalid float value\n",
      "Cannot set gray non-stroke color because /'Pattern23' is an invalid float value\n",
      "Cannot set gray non-stroke color because /'Pattern24' is an invalid float value\n",
      "Cannot set gray non-stroke color because /'Pattern25' is an invalid float value\n",
      "Cannot set gray non-stroke color because /'Pattern26' is an invalid float value\n",
      "Cannot set gray non-stroke color because /'Pattern27' is an invalid float value\n",
      "Cannot set gray non-stroke color because /'Pattern28' is an invalid float value\n",
      "Cannot set gray non-stroke color because /'Pattern29' is an invalid float value\n",
      "Cannot set gray non-stroke color because /'Pattern30' is an invalid float value\n",
      "Cannot set gray non-stroke color because /'Pattern31' is an invalid float value\n",
      "Cannot set gray non-stroke color because /'Pattern32' is an invalid float value\n",
      "Cannot set gray non-stroke color because /'Pattern33' is an invalid float value\n",
      "Cannot set gray non-stroke color because /'Pattern34' is an invalid float value\n",
      "Cannot set gray non-stroke color because /'Pattern35' is an invalid float value\n",
      "Cannot set gray non-stroke color because /'Pattern36' is an invalid float value\n",
      "Cannot set gray non-stroke color because /'Pattern37' is an invalid float value\n",
      "Cannot set gray non-stroke color because /'Pattern38' is an invalid float value\n",
      "Cannot set gray non-stroke color because /'Pattern39' is an invalid float value\n",
      "Cannot set gray non-stroke color because /'Pattern40' is an invalid float value\n",
      "Cannot set gray non-stroke color because /'Pattern41' is an invalid float value\n",
      "Cannot set gray non-stroke color because /'Pattern42' is an invalid float value\n",
      "Cannot set gray non-stroke color because /'Pattern43' is an invalid float value\n",
      "Cannot set gray non-stroke color because /'Pattern44' is an invalid float value\n",
      "Cannot set gray non-stroke color because /'Pattern45' is an invalid float value\n",
      "Processing pages:  52%|████████████████████████████████▍                             | 11/21 [00:13<00:14,  1.49s/page]Cannot set gray non-stroke color because /'Pattern1' is an invalid float value\n",
      "Cannot set gray non-stroke color because /'Pattern2' is an invalid float value\n",
      "Cannot set gray non-stroke color because /'Pattern3' is an invalid float value\n",
      "Cannot set gray non-stroke color because /'Pattern4' is an invalid float value\n",
      "Cannot set gray non-stroke color because /'Pattern5' is an invalid float value\n",
      "Cannot set gray non-stroke color because /'Pattern6' is an invalid float value\n",
      "Cannot set gray non-stroke color because /'Pattern7' is an invalid float value\n",
      "Cannot set gray non-stroke color because /'Pattern8' is an invalid float value\n",
      "Cannot set gray non-stroke color because /'Pattern9' is an invalid float value\n",
      "Cannot set gray non-stroke color because /'Pattern10' is an invalid float value\n",
      "Cannot set gray non-stroke color because /'Pattern11' is an invalid float value\n",
      "Cannot set gray non-stroke color because /'Pattern12' is an invalid float value\n",
      "Cannot set gray non-stroke color because /'Pattern13' is an invalid float value\n",
      "Cannot set gray non-stroke color because /'Pattern14' is an invalid float value\n",
      "Cannot set gray non-stroke color because /'Pattern15' is an invalid float value\n",
      "Cannot set gray non-stroke color because /'Pattern16' is an invalid float value\n",
      "Cannot set gray non-stroke color because /'Pattern17' is an invalid float value\n",
      "Cannot set gray non-stroke color because /'Pattern18' is an invalid float value\n",
      "Cannot set gray non-stroke color because /'Pattern19' is an invalid float value\n",
      "Cannot set gray non-stroke color because /'Pattern20' is an invalid float value\n",
      "Processing pages:  57%|███████████████████████████████████▍                          | 12/21 [00:15<00:14,  1.66s/page]Cannot set gray non-stroke color because /'Pattern1' is an invalid float value\n",
      "Cannot set gray non-stroke color because /'Pattern2' is an invalid float value\n",
      "Cannot set gray non-stroke color because /'Pattern3' is an invalid float value\n",
      "Cannot set gray non-stroke color because /'Pattern4' is an invalid float value\n",
      "Cannot set gray non-stroke color because /'Pattern5' is an invalid float value\n",
      "Cannot set gray non-stroke color because /'Pattern6' is an invalid float value\n",
      "Cannot set gray non-stroke color because /'Pattern7' is an invalid float value\n",
      "Cannot set gray non-stroke color because /'Pattern8' is an invalid float value\n",
      "Cannot set gray non-stroke color because /'Pattern9' is an invalid float value\n",
      "Processing pages: 100%|██████████████████████████████████████████████████████████████| 21/21 [00:26<00:00,  1.24s/page]\n"
     ]
    },
    {
     "name": "stdout",
     "output_type": "stream",
     "text": [
      "\n",
      "📄 Extracting from: hbi-2025-faculty-of-design-fine-arts.pdf\n"
     ]
    },
    {
     "name": "stderr",
     "output_type": "stream",
     "text": [
      "Processing pages: 100%|████████████████████████████████████████████████████████████████| 4/4 [00:04<00:00,  1.05s/page]\n"
     ]
    },
    {
     "name": "stdout",
     "output_type": "stream",
     "text": [
      "\n",
      "📄 Extracting from: hbi-2025-faculty-of-education.pdf\n"
     ]
    },
    {
     "name": "stderr",
     "output_type": "stream",
     "text": [
      "Processing pages: 100%|████████████████████████████████████████████████████████████████| 9/9 [00:08<00:00,  1.11page/s]\n"
     ]
    },
    {
     "name": "stdout",
     "output_type": "stream",
     "text": [
      "\n",
      "📄 Extracting from: hbi-2025-faculty-of-engineering.pdf\n"
     ]
    },
    {
     "name": "stderr",
     "output_type": "stream",
     "text": [
      "Processing pages: 100%|██████████████████████████████████████████████████████████████| 15/15 [00:16<00:00,  1.10s/page]\n"
     ]
    },
    {
     "name": "stdout",
     "output_type": "stream",
     "text": [
      "\n",
      "📄 Extracting from: hbi-2025-faculty-of-laws.pdf\n"
     ]
    },
    {
     "name": "stderr",
     "output_type": "stream",
     "text": [
      "Processing pages: 100%|████████████████████████████████████████████████████████████████| 7/7 [00:09<00:00,  1.30s/page]\n"
     ]
    },
    {
     "name": "stdout",
     "output_type": "stream",
     "text": [
      "\n",
      "📄 Extracting from: hbi-2025-faculty-of-medical-science.pdf\n"
     ]
    },
    {
     "name": "stderr",
     "output_type": "stream",
     "text": [
      "Processing pages: 100%|████████████████████████████████████████████████████████████████| 3/3 [00:02<00:00,  1.07page/s]\n"
     ]
    },
    {
     "name": "stdout",
     "output_type": "stream",
     "text": [
      "\n",
      "📄 Extracting from: hbi-2025-faculty-of-pharmacy.pdf\n"
     ]
    },
    {
     "name": "stderr",
     "output_type": "stream",
     "text": [
      "Processing pages: 100%|████████████████████████████████████████████████████████████████| 5/5 [00:03<00:00,  1.29page/s]\n"
     ]
    },
    {
     "name": "stdout",
     "output_type": "stream",
     "text": [
      "\n",
      "📄 Extracting from: hbi-2025-faculty-of-science.pdf\n"
     ]
    },
    {
     "name": "stderr",
     "output_type": "stream",
     "text": [
      "Processing pages: 100%|██████████████████████████████████████████████████████████████| 49/49 [00:54<00:00,  1.11s/page]\n"
     ]
    },
    {
     "name": "stdout",
     "output_type": "stream",
     "text": [
      "\n",
      "📄 Extracting from: hbi-2025-final-faculty-of-languages.pdf\n"
     ]
    },
    {
     "name": "stderr",
     "output_type": "stream",
     "text": [
      "Processing pages: 100%|██████████████████████████████████████████████████████████████| 19/19 [00:20<00:00,  1.10s/page]\n"
     ]
    },
    {
     "name": "stdout",
     "output_type": "stream",
     "text": [
      "\n",
      "📄 Extracting from: hbi-2025-multi-faculty-depts.pdf\n"
     ]
    },
    {
     "name": "stderr",
     "output_type": "stream",
     "text": [
      "Processing pages: 100%|██████████████████████████████████████████████████████████████| 24/24 [00:19<00:00,  1.21page/s]"
     ]
    },
    {
     "name": "stdout",
     "output_type": "stream",
     "text": [
      "\n",
      "✅ Extraction complete. Data saved to: rag_pdf_data.csv\n"
     ]
    },
    {
     "name": "stderr",
     "output_type": "stream",
     "text": [
      "\n"
     ]
    }
   ],
   "source": [
    "import pdfplumber\n",
    "import os\n",
    "import pandas as pd\n",
    "from tqdm import tqdm\n",
    "\n",
    "def extract_text_and_tables(pdf_path):\n",
    "    full_text = \"\"\n",
    "    with pdfplumber.open(pdf_path) as pdf:\n",
    "        print(f\"\\n📄 Extracting from: {os.path.basename(pdf_path)}\")\n",
    "        for page in tqdm(pdf.pages, desc=f\"Processing pages\", unit=\"page\"):\n",
    "            # Extract normal text\n",
    "            page_text = page.extract_text() or \"\"\n",
    "            full_text += page_text + \"\\n\"\n",
    "\n",
    "            # Extract tables and convert to text\n",
    "            tables = page.extract_tables()\n",
    "            for table in tables:\n",
    "                for row in table:\n",
    "                    row_text = \"\\t\".join([cell if cell else \"\" for cell in row])\n",
    "                    full_text += row_text + \"\\n\"\n",
    "    return full_text.strip()\n",
    "\n",
    "def extract_all_pdfs_to_csv(pdf_folder, output_csv=\"pdf_data.csv\"):\n",
    "    data = []\n",
    "    pdf_files = [file for file in os.listdir(pdf_folder) if file.lower().endswith(\".pdf\")]\n",
    "\n",
    "    for file in pdf_files:\n",
    "        pdf_path = os.path.join(pdf_folder, file)\n",
    "        text = extract_text_and_tables(pdf_path)\n",
    "        data.append({\"filename\": file, \"text\": text})\n",
    "    \n",
    "    df = pd.DataFrame(data)\n",
    "    df.to_csv(output_csv, index=False, encoding='utf-8')\n",
    "    print(f\"\\n✅ Extraction complete. Data saved to: {output_csv}\")\n",
    "\n",
    "# Example usage\n",
    "extract_all_pdfs_to_csv(\"PDFs/\", \"rag_pdf_data.csv\")\n"
   ]
  },
  {
   "cell_type": "code",
   "execution_count": 11,
   "id": "21e84a24-9571-40fb-bbf6-122e98508773",
   "metadata": {},
   "outputs": [],
   "source": [
    "import pandas as pd\n",
    "\n",
    "df = pd.read_csv('rag_pdf_data.csv')"
   ]
  },
  {
   "cell_type": "code",
   "execution_count": 15,
   "id": "3ab8b92a-838d-4dff-a99e-3595e8a14d44",
   "metadata": {},
   "outputs": [
    {
     "data": {
      "text/html": [
       "<div>\n",
       "<style scoped>\n",
       "    .dataframe tbody tr th:only-of-type {\n",
       "        vertical-align: middle;\n",
       "    }\n",
       "\n",
       "    .dataframe tbody tr th {\n",
       "        vertical-align: top;\n",
       "    }\n",
       "\n",
       "    .dataframe thead th {\n",
       "        text-align: right;\n",
       "    }\n",
       "</style>\n",
       "<table border=\"1\" class=\"dataframe\">\n",
       "  <thead>\n",
       "    <tr style=\"text-align: right;\">\n",
       "      <th></th>\n",
       "      <th>filename</th>\n",
       "      <th>text</th>\n",
       "    </tr>\n",
       "  </thead>\n",
       "  <tbody>\n",
       "    <tr>\n",
       "      <th>0</th>\n",
       "      <td>handbook.pdf</td>\n",
       "      <td>FRONT PAGES 1 HANDBOOK OF INFORMATION 2025\\nHo...</td>\n",
       "    </tr>\n",
       "    <tr>\n",
       "      <th>1</th>\n",
       "      <td>handbook_c.pdf</td>\n",
       "      <td>PART-C 1 HANDBOOK OF INFORMATION 2025\\nFEE STR...</td>\n",
       "    </tr>\n",
       "    <tr>\n",
       "      <th>2</th>\n",
       "      <td>hbi-2025-faculty-of-arts.pdf</td>\n",
       "      <td>FACULTY OF ARTS 1 HANDBOOK OF INFORMATION 2025...</td>\n",
       "    </tr>\n",
       "    <tr>\n",
       "      <th>3</th>\n",
       "      <td>hbi-2025-faculty-of-business.pdf</td>\n",
       "      <td>FACULTY OF BUSINESS MANAGEMENT AND COMMERCE 34...</td>\n",
       "    </tr>\n",
       "    <tr>\n",
       "      <th>4</th>\n",
       "      <td>hbi-2025-faculty-of-design-fine-arts.pdf</td>\n",
       "      <td>FACULTY OF DESIGN AND FINE ARTS 55 HANDBOOK OF...</td>\n",
       "    </tr>\n",
       "    <tr>\n",
       "      <th>5</th>\n",
       "      <td>hbi-2025-faculty-of-education.pdf</td>\n",
       "      <td>FACULTY OF EDUCATION 59 HANDBOOK OF INFORMATIO...</td>\n",
       "    </tr>\n",
       "    <tr>\n",
       "      <th>6</th>\n",
       "      <td>hbi-2025-faculty-of-engineering.pdf</td>\n",
       "      <td>FACULTY OF ENGINEERING AND TECHNOLOGY 68 HANDB...</td>\n",
       "    </tr>\n",
       "    <tr>\n",
       "      <th>7</th>\n",
       "      <td>hbi-2025-faculty-of-laws.pdf</td>\n",
       "      <td>FACULTY OF LAWS 102 HANDBOOK OF INFORMATION 20...</td>\n",
       "    </tr>\n",
       "    <tr>\n",
       "      <th>8</th>\n",
       "      <td>hbi-2025-faculty-of-medical-science.pdf</td>\n",
       "      <td>FACULTY OF MEDICAL SCIENCES 109 HANDBOOK OF IN...</td>\n",
       "    </tr>\n",
       "    <tr>\n",
       "      <th>9</th>\n",
       "      <td>hbi-2025-faculty-of-pharmacy.pdf</td>\n",
       "      <td>FACULTY OF PHARMACEUTICAL SCIENCES 112 HANDBOO...</td>\n",
       "    </tr>\n",
       "    <tr>\n",
       "      <th>10</th>\n",
       "      <td>hbi-2025-faculty-of-science.pdf</td>\n",
       "      <td>FACULTY OF SCIENCES 117 HANDBOOK OF INFORMATIO...</td>\n",
       "    </tr>\n",
       "    <tr>\n",
       "      <th>11</th>\n",
       "      <td>hbi-2025-final-faculty-of-languages.pdf</td>\n",
       "      <td>FACULTY OF LANGUAGES 83 HANDBOOK OF INFORMATIO...</td>\n",
       "    </tr>\n",
       "    <tr>\n",
       "      <th>12</th>\n",
       "      <td>hbi-2025-multi-faculty-depts.pdf</td>\n",
       "      <td>MULTI FACULTY DEPARTMENTS 166 HANDBOOK OF INFO...</td>\n",
       "    </tr>\n",
       "  </tbody>\n",
       "</table>\n",
       "</div>"
      ],
      "text/plain": [
       "                                    filename  \\\n",
       "0                               handbook.pdf   \n",
       "1                             handbook_c.pdf   \n",
       "2               hbi-2025-faculty-of-arts.pdf   \n",
       "3           hbi-2025-faculty-of-business.pdf   \n",
       "4   hbi-2025-faculty-of-design-fine-arts.pdf   \n",
       "5          hbi-2025-faculty-of-education.pdf   \n",
       "6        hbi-2025-faculty-of-engineering.pdf   \n",
       "7               hbi-2025-faculty-of-laws.pdf   \n",
       "8    hbi-2025-faculty-of-medical-science.pdf   \n",
       "9           hbi-2025-faculty-of-pharmacy.pdf   \n",
       "10           hbi-2025-faculty-of-science.pdf   \n",
       "11   hbi-2025-final-faculty-of-languages.pdf   \n",
       "12          hbi-2025-multi-faculty-depts.pdf   \n",
       "\n",
       "                                                 text  \n",
       "0   FRONT PAGES 1 HANDBOOK OF INFORMATION 2025\\nHo...  \n",
       "1   PART-C 1 HANDBOOK OF INFORMATION 2025\\nFEE STR...  \n",
       "2   FACULTY OF ARTS 1 HANDBOOK OF INFORMATION 2025...  \n",
       "3   FACULTY OF BUSINESS MANAGEMENT AND COMMERCE 34...  \n",
       "4   FACULTY OF DESIGN AND FINE ARTS 55 HANDBOOK OF...  \n",
       "5   FACULTY OF EDUCATION 59 HANDBOOK OF INFORMATIO...  \n",
       "6   FACULTY OF ENGINEERING AND TECHNOLOGY 68 HANDB...  \n",
       "7   FACULTY OF LAWS 102 HANDBOOK OF INFORMATION 20...  \n",
       "8   FACULTY OF MEDICAL SCIENCES 109 HANDBOOK OF IN...  \n",
       "9   FACULTY OF PHARMACEUTICAL SCIENCES 112 HANDBOO...  \n",
       "10  FACULTY OF SCIENCES 117 HANDBOOK OF INFORMATIO...  \n",
       "11  FACULTY OF LANGUAGES 83 HANDBOOK OF INFORMATIO...  \n",
       "12  MULTI FACULTY DEPARTMENTS 166 HANDBOOK OF INFO...  "
      ]
     },
     "execution_count": 15,
     "metadata": {},
     "output_type": "execute_result"
    }
   ],
   "source": [
    "df"
   ]
  },
  {
   "cell_type": "code",
   "execution_count": 16,
   "id": "f432244c-b7c9-4fc4-804d-d040c3bc4ff9",
   "metadata": {},
   "outputs": [
    {
     "data": {
      "text/html": [
       "<div>\n",
       "<style scoped>\n",
       "    .dataframe tbody tr th:only-of-type {\n",
       "        vertical-align: middle;\n",
       "    }\n",
       "\n",
       "    .dataframe tbody tr th {\n",
       "        vertical-align: top;\n",
       "    }\n",
       "\n",
       "    .dataframe thead th {\n",
       "        text-align: right;\n",
       "    }\n",
       "</style>\n",
       "<table border=\"1\" class=\"dataframe\">\n",
       "  <thead>\n",
       "    <tr style=\"text-align: right;\">\n",
       "      <th></th>\n",
       "      <th>filename</th>\n",
       "      <th>text</th>\n",
       "      <th>cleaned_text</th>\n",
       "    </tr>\n",
       "  </thead>\n",
       "  <tbody>\n",
       "    <tr>\n",
       "      <th>0</th>\n",
       "      <td>handbook.pdf</td>\n",
       "      <td>FRONT PAGES 1 HANDBOOK OF INFORMATION 2025\\nHo...</td>\n",
       "      <td>FRONT PAGES 1 HANDBOOK OF INFORMATION 2025 Hon...</td>\n",
       "    </tr>\n",
       "    <tr>\n",
       "      <th>1</th>\n",
       "      <td>handbook_c.pdf</td>\n",
       "      <td>PART-C 1 HANDBOOK OF INFORMATION 2025\\nFEE STR...</td>\n",
       "      <td>PART-C 1 HANDBOOK OF INFORMATION 2025 FEE STRU...</td>\n",
       "    </tr>\n",
       "    <tr>\n",
       "      <th>2</th>\n",
       "      <td>hbi-2025-faculty-of-arts.pdf</td>\n",
       "      <td>FACULTY OF ARTS 1 HANDBOOK OF INFORMATION 2025...</td>\n",
       "      <td>FACULTY OF ARTS 1 HANDBOOK OF INFORMATION 2025...</td>\n",
       "    </tr>\n",
       "    <tr>\n",
       "      <th>3</th>\n",
       "      <td>hbi-2025-faculty-of-business.pdf</td>\n",
       "      <td>FACULTY OF BUSINESS MANAGEMENT AND COMMERCE 34...</td>\n",
       "      <td>FACULTY OF BUSINESS MANAGEMENT AND COMMERCE 34...</td>\n",
       "    </tr>\n",
       "    <tr>\n",
       "      <th>4</th>\n",
       "      <td>hbi-2025-faculty-of-design-fine-arts.pdf</td>\n",
       "      <td>FACULTY OF DESIGN AND FINE ARTS 55 HANDBOOK OF...</td>\n",
       "      <td>FACULTY OF DESIGN AND FINE ARTS 55 HANDBOOK OF...</td>\n",
       "    </tr>\n",
       "  </tbody>\n",
       "</table>\n",
       "</div>"
      ],
      "text/plain": [
       "                                   filename  \\\n",
       "0                              handbook.pdf   \n",
       "1                            handbook_c.pdf   \n",
       "2              hbi-2025-faculty-of-arts.pdf   \n",
       "3          hbi-2025-faculty-of-business.pdf   \n",
       "4  hbi-2025-faculty-of-design-fine-arts.pdf   \n",
       "\n",
       "                                                text  \\\n",
       "0  FRONT PAGES 1 HANDBOOK OF INFORMATION 2025\\nHo...   \n",
       "1  PART-C 1 HANDBOOK OF INFORMATION 2025\\nFEE STR...   \n",
       "2  FACULTY OF ARTS 1 HANDBOOK OF INFORMATION 2025...   \n",
       "3  FACULTY OF BUSINESS MANAGEMENT AND COMMERCE 34...   \n",
       "4  FACULTY OF DESIGN AND FINE ARTS 55 HANDBOOK OF...   \n",
       "\n",
       "                                        cleaned_text  \n",
       "0  FRONT PAGES 1 HANDBOOK OF INFORMATION 2025 Hon...  \n",
       "1  PART-C 1 HANDBOOK OF INFORMATION 2025 FEE STRU...  \n",
       "2  FACULTY OF ARTS 1 HANDBOOK OF INFORMATION 2025...  \n",
       "3  FACULTY OF BUSINESS MANAGEMENT AND COMMERCE 34...  \n",
       "4  FACULTY OF DESIGN AND FINE ARTS 55 HANDBOOK OF...  "
      ]
     },
     "execution_count": 16,
     "metadata": {},
     "output_type": "execute_result"
    }
   ],
   "source": [
    "import neattext.functions as nfx\n",
    "import re\n",
    "\n",
    "df['cleaned_text'] = df['text'].apply(lambda x: nfx.remove_multiple_spaces(x))\n",
    "df['cleaned_text'] = df['cleaned_text'].apply(lambda x: re.sub(r'\\s+', ' ', re.sub(r'[^A-Za-z0-9-(-)\\s]', ' ', x)).strip())\n",
    "df['cleaned_text'] = df['cleaned_text'].apply(lambda x: x.strip())\n",
    "\n",
    "df.head()"
   ]
  },
  {
   "cell_type": "code",
   "execution_count": 17,
   "id": "32e04897-3fac-4b95-9b60-36eb6f81cb4d",
   "metadata": {},
   "outputs": [],
   "source": [
    "df['cleaned_text'] = df['cleaned_text'].apply(lambda x: x.lower())"
   ]
  },
  {
   "cell_type": "code",
   "execution_count": 18,
   "id": "a0192127-8b20-43fa-a9a9-19c9b2c89303",
   "metadata": {},
   "outputs": [
    {
     "data": {
      "text/html": [
       "<div>\n",
       "<style scoped>\n",
       "    .dataframe tbody tr th:only-of-type {\n",
       "        vertical-align: middle;\n",
       "    }\n",
       "\n",
       "    .dataframe tbody tr th {\n",
       "        vertical-align: top;\n",
       "    }\n",
       "\n",
       "    .dataframe thead th {\n",
       "        text-align: right;\n",
       "    }\n",
       "</style>\n",
       "<table border=\"1\" class=\"dataframe\">\n",
       "  <thead>\n",
       "    <tr style=\"text-align: right;\">\n",
       "      <th></th>\n",
       "      <th>filename</th>\n",
       "      <th>text</th>\n",
       "      <th>cleaned_text</th>\n",
       "    </tr>\n",
       "  </thead>\n",
       "  <tbody>\n",
       "    <tr>\n",
       "      <th>0</th>\n",
       "      <td>handbook.pdf</td>\n",
       "      <td>FRONT PAGES 1 HANDBOOK OF INFORMATION 2025\\nHo...</td>\n",
       "      <td>front pages 1 handbook of information 2025 hon...</td>\n",
       "    </tr>\n",
       "    <tr>\n",
       "      <th>1</th>\n",
       "      <td>handbook_c.pdf</td>\n",
       "      <td>PART-C 1 HANDBOOK OF INFORMATION 2025\\nFEE STR...</td>\n",
       "      <td>part-c 1 handbook of information 2025 fee stru...</td>\n",
       "    </tr>\n",
       "    <tr>\n",
       "      <th>2</th>\n",
       "      <td>hbi-2025-faculty-of-arts.pdf</td>\n",
       "      <td>FACULTY OF ARTS 1 HANDBOOK OF INFORMATION 2025...</td>\n",
       "      <td>faculty of arts 1 handbook of information 2025...</td>\n",
       "    </tr>\n",
       "    <tr>\n",
       "      <th>3</th>\n",
       "      <td>hbi-2025-faculty-of-business.pdf</td>\n",
       "      <td>FACULTY OF BUSINESS MANAGEMENT AND COMMERCE 34...</td>\n",
       "      <td>faculty of business management and commerce 34...</td>\n",
       "    </tr>\n",
       "    <tr>\n",
       "      <th>4</th>\n",
       "      <td>hbi-2025-faculty-of-design-fine-arts.pdf</td>\n",
       "      <td>FACULTY OF DESIGN AND FINE ARTS 55 HANDBOOK OF...</td>\n",
       "      <td>faculty of design and fine arts 55 handbook of...</td>\n",
       "    </tr>\n",
       "    <tr>\n",
       "      <th>5</th>\n",
       "      <td>hbi-2025-faculty-of-education.pdf</td>\n",
       "      <td>FACULTY OF EDUCATION 59 HANDBOOK OF INFORMATIO...</td>\n",
       "      <td>faculty of education 59 handbook of informatio...</td>\n",
       "    </tr>\n",
       "    <tr>\n",
       "      <th>6</th>\n",
       "      <td>hbi-2025-faculty-of-engineering.pdf</td>\n",
       "      <td>FACULTY OF ENGINEERING AND TECHNOLOGY 68 HANDB...</td>\n",
       "      <td>faculty of engineering and technology 68 handb...</td>\n",
       "    </tr>\n",
       "    <tr>\n",
       "      <th>7</th>\n",
       "      <td>hbi-2025-faculty-of-laws.pdf</td>\n",
       "      <td>FACULTY OF LAWS 102 HANDBOOK OF INFORMATION 20...</td>\n",
       "      <td>faculty of laws 102 handbook of information 20...</td>\n",
       "    </tr>\n",
       "    <tr>\n",
       "      <th>8</th>\n",
       "      <td>hbi-2025-faculty-of-medical-science.pdf</td>\n",
       "      <td>FACULTY OF MEDICAL SCIENCES 109 HANDBOOK OF IN...</td>\n",
       "      <td>faculty of medical sciences 109 handbook of in...</td>\n",
       "    </tr>\n",
       "    <tr>\n",
       "      <th>9</th>\n",
       "      <td>hbi-2025-faculty-of-pharmacy.pdf</td>\n",
       "      <td>FACULTY OF PHARMACEUTICAL SCIENCES 112 HANDBOO...</td>\n",
       "      <td>faculty of pharmaceutical sciences 112 handboo...</td>\n",
       "    </tr>\n",
       "    <tr>\n",
       "      <th>10</th>\n",
       "      <td>hbi-2025-faculty-of-science.pdf</td>\n",
       "      <td>FACULTY OF SCIENCES 117 HANDBOOK OF INFORMATIO...</td>\n",
       "      <td>faculty of sciences 117 handbook of informatio...</td>\n",
       "    </tr>\n",
       "    <tr>\n",
       "      <th>11</th>\n",
       "      <td>hbi-2025-final-faculty-of-languages.pdf</td>\n",
       "      <td>FACULTY OF LANGUAGES 83 HANDBOOK OF INFORMATIO...</td>\n",
       "      <td>faculty of languages 83 handbook of informatio...</td>\n",
       "    </tr>\n",
       "    <tr>\n",
       "      <th>12</th>\n",
       "      <td>hbi-2025-multi-faculty-depts.pdf</td>\n",
       "      <td>MULTI FACULTY DEPARTMENTS 166 HANDBOOK OF INFO...</td>\n",
       "      <td>multi faculty departments 166 handbook of info...</td>\n",
       "    </tr>\n",
       "  </tbody>\n",
       "</table>\n",
       "</div>"
      ],
      "text/plain": [
       "                                    filename  \\\n",
       "0                               handbook.pdf   \n",
       "1                             handbook_c.pdf   \n",
       "2               hbi-2025-faculty-of-arts.pdf   \n",
       "3           hbi-2025-faculty-of-business.pdf   \n",
       "4   hbi-2025-faculty-of-design-fine-arts.pdf   \n",
       "5          hbi-2025-faculty-of-education.pdf   \n",
       "6        hbi-2025-faculty-of-engineering.pdf   \n",
       "7               hbi-2025-faculty-of-laws.pdf   \n",
       "8    hbi-2025-faculty-of-medical-science.pdf   \n",
       "9           hbi-2025-faculty-of-pharmacy.pdf   \n",
       "10           hbi-2025-faculty-of-science.pdf   \n",
       "11   hbi-2025-final-faculty-of-languages.pdf   \n",
       "12          hbi-2025-multi-faculty-depts.pdf   \n",
       "\n",
       "                                                 text  \\\n",
       "0   FRONT PAGES 1 HANDBOOK OF INFORMATION 2025\\nHo...   \n",
       "1   PART-C 1 HANDBOOK OF INFORMATION 2025\\nFEE STR...   \n",
       "2   FACULTY OF ARTS 1 HANDBOOK OF INFORMATION 2025...   \n",
       "3   FACULTY OF BUSINESS MANAGEMENT AND COMMERCE 34...   \n",
       "4   FACULTY OF DESIGN AND FINE ARTS 55 HANDBOOK OF...   \n",
       "5   FACULTY OF EDUCATION 59 HANDBOOK OF INFORMATIO...   \n",
       "6   FACULTY OF ENGINEERING AND TECHNOLOGY 68 HANDB...   \n",
       "7   FACULTY OF LAWS 102 HANDBOOK OF INFORMATION 20...   \n",
       "8   FACULTY OF MEDICAL SCIENCES 109 HANDBOOK OF IN...   \n",
       "9   FACULTY OF PHARMACEUTICAL SCIENCES 112 HANDBOO...   \n",
       "10  FACULTY OF SCIENCES 117 HANDBOOK OF INFORMATIO...   \n",
       "11  FACULTY OF LANGUAGES 83 HANDBOOK OF INFORMATIO...   \n",
       "12  MULTI FACULTY DEPARTMENTS 166 HANDBOOK OF INFO...   \n",
       "\n",
       "                                         cleaned_text  \n",
       "0   front pages 1 handbook of information 2025 hon...  \n",
       "1   part-c 1 handbook of information 2025 fee stru...  \n",
       "2   faculty of arts 1 handbook of information 2025...  \n",
       "3   faculty of business management and commerce 34...  \n",
       "4   faculty of design and fine arts 55 handbook of...  \n",
       "5   faculty of education 59 handbook of informatio...  \n",
       "6   faculty of engineering and technology 68 handb...  \n",
       "7   faculty of laws 102 handbook of information 20...  \n",
       "8   faculty of medical sciences 109 handbook of in...  \n",
       "9   faculty of pharmaceutical sciences 112 handboo...  \n",
       "10  faculty of sciences 117 handbook of informatio...  \n",
       "11  faculty of languages 83 handbook of informatio...  \n",
       "12  multi faculty departments 166 handbook of info...  "
      ]
     },
     "execution_count": 18,
     "metadata": {},
     "output_type": "execute_result"
    }
   ],
   "source": [
    "df"
   ]
  },
  {
   "cell_type": "code",
   "execution_count": 19,
   "id": "eeab6ddd-e815-4443-ae2f-88700bdf5fd6",
   "metadata": {},
   "outputs": [],
   "source": [
    "from transformers import AutoTokenizer\n",
    "tokenizer = AutoTokenizer.from_pretrained(\"google/long-t5-tglobal-base\")"
   ]
  },
  {
   "cell_type": "code",
   "execution_count": 20,
   "id": "7add16de-8888-47d4-b6b3-6faffc8f9239",
   "metadata": {},
   "outputs": [],
   "source": [
    "def chunk_text_token_based(text, tokenizer, max_tokens=512, stride=50):\n",
    "    tokens = tokenizer.encode(text, add_special_tokens=False, truncation=False)\n",
    "    chunks = []\n",
    "    start = 0\n",
    "    while start < len(tokens):\n",
    "        end = start + max_tokens\n",
    "        chunk_tokens = tokens[start:end]\n",
    "        chunk = tokenizer.decode(chunk_tokens, skip_special_tokens=True)\n",
    "        chunks.append(chunk)\n",
    "        start += max_tokens - stride  # shift start index\n",
    "    return chunks"
   ]
  },
  {
   "cell_type": "code",
   "execution_count": 21,
   "id": "ea46e31b-1fe6-444c-a0b9-c9c989943890",
   "metadata": {},
   "outputs": [],
   "source": [
    "df['chunks'] = df['cleaned_text'].apply(lambda x: chunk_text_token_based(x, tokenizer))"
   ]
  },
  {
   "cell_type": "code",
   "execution_count": 23,
   "id": "67737642-d0a2-44d4-90ae-7da77ad4f072",
   "metadata": {},
   "outputs": [
    {
     "data": {
      "text/html": [
       "<div>\n",
       "<style scoped>\n",
       "    .dataframe tbody tr th:only-of-type {\n",
       "        vertical-align: middle;\n",
       "    }\n",
       "\n",
       "    .dataframe tbody tr th {\n",
       "        vertical-align: top;\n",
       "    }\n",
       "\n",
       "    .dataframe thead th {\n",
       "        text-align: right;\n",
       "    }\n",
       "</style>\n",
       "<table border=\"1\" class=\"dataframe\">\n",
       "  <thead>\n",
       "    <tr style=\"text-align: right;\">\n",
       "      <th></th>\n",
       "      <th>filename</th>\n",
       "      <th>text</th>\n",
       "      <th>cleaned_text</th>\n",
       "      <th>chunks</th>\n",
       "    </tr>\n",
       "  </thead>\n",
       "  <tbody>\n",
       "    <tr>\n",
       "      <th>0</th>\n",
       "      <td>handbook.pdf</td>\n",
       "      <td>FRONT PAGES 1 HANDBOOK OF INFORMATION 2025\\nHo...</td>\n",
       "      <td>front pages 1 handbook of information 2025 hon...</td>\n",
       "      <td>[front pages 1 handbook of information 2025 ho...</td>\n",
       "    </tr>\n",
       "    <tr>\n",
       "      <th>1</th>\n",
       "      <td>handbook_c.pdf</td>\n",
       "      <td>PART-C 1 HANDBOOK OF INFORMATION 2025\\nFEE STR...</td>\n",
       "      <td>part-c 1 handbook of information 2025 fee stru...</td>\n",
       "      <td>[part-c 1 handbook of information 2025 fee str...</td>\n",
       "    </tr>\n",
       "    <tr>\n",
       "      <th>2</th>\n",
       "      <td>hbi-2025-faculty-of-arts.pdf</td>\n",
       "      <td>FACULTY OF ARTS 1 HANDBOOK OF INFORMATION 2025...</td>\n",
       "      <td>faculty of arts 1 handbook of information 2025...</td>\n",
       "      <td>[faculty of arts 1 handbook of information 202...</td>\n",
       "    </tr>\n",
       "    <tr>\n",
       "      <th>3</th>\n",
       "      <td>hbi-2025-faculty-of-business.pdf</td>\n",
       "      <td>FACULTY OF BUSINESS MANAGEMENT AND COMMERCE 34...</td>\n",
       "      <td>faculty of business management and commerce 34...</td>\n",
       "      <td>[faculty of business management and commerce 3...</td>\n",
       "    </tr>\n",
       "    <tr>\n",
       "      <th>4</th>\n",
       "      <td>hbi-2025-faculty-of-design-fine-arts.pdf</td>\n",
       "      <td>FACULTY OF DESIGN AND FINE ARTS 55 HANDBOOK OF...</td>\n",
       "      <td>faculty of design and fine arts 55 handbook of...</td>\n",
       "      <td>[faculty of design and fine arts 55 handbook o...</td>\n",
       "    </tr>\n",
       "  </tbody>\n",
       "</table>\n",
       "</div>"
      ],
      "text/plain": [
       "                                   filename  \\\n",
       "0                              handbook.pdf   \n",
       "1                            handbook_c.pdf   \n",
       "2              hbi-2025-faculty-of-arts.pdf   \n",
       "3          hbi-2025-faculty-of-business.pdf   \n",
       "4  hbi-2025-faculty-of-design-fine-arts.pdf   \n",
       "\n",
       "                                                text  \\\n",
       "0  FRONT PAGES 1 HANDBOOK OF INFORMATION 2025\\nHo...   \n",
       "1  PART-C 1 HANDBOOK OF INFORMATION 2025\\nFEE STR...   \n",
       "2  FACULTY OF ARTS 1 HANDBOOK OF INFORMATION 2025...   \n",
       "3  FACULTY OF BUSINESS MANAGEMENT AND COMMERCE 34...   \n",
       "4  FACULTY OF DESIGN AND FINE ARTS 55 HANDBOOK OF...   \n",
       "\n",
       "                                        cleaned_text  \\\n",
       "0  front pages 1 handbook of information 2025 hon...   \n",
       "1  part-c 1 handbook of information 2025 fee stru...   \n",
       "2  faculty of arts 1 handbook of information 2025...   \n",
       "3  faculty of business management and commerce 34...   \n",
       "4  faculty of design and fine arts 55 handbook of...   \n",
       "\n",
       "                                              chunks  \n",
       "0  [front pages 1 handbook of information 2025 ho...  \n",
       "1  [part-c 1 handbook of information 2025 fee str...  \n",
       "2  [faculty of arts 1 handbook of information 202...  \n",
       "3  [faculty of business management and commerce 3...  \n",
       "4  [faculty of design and fine arts 55 handbook o...  "
      ]
     },
     "execution_count": 23,
     "metadata": {},
     "output_type": "execute_result"
    }
   ],
   "source": [
    "df.head()"
   ]
  },
  {
   "cell_type": "markdown",
   "id": "d43c06a2-200f-4f5b-99dd-ef34d22f8c05",
   "metadata": {},
   "source": [
    "### Flatten chunks for indexing"
   ]
  },
  {
   "cell_type": "code",
   "execution_count": 24,
   "id": "80f34b9b-59c5-4e67-b0f6-1e50b18798a9",
   "metadata": {},
   "outputs": [],
   "source": [
    "from llama_index.core import Document\n",
    "\n",
    "documents = []\n",
    "for idx, row in df.iterrows():\n",
    "    for i, chunk in enumerate(row['chunks']):\n",
    "        documents.append(Document(text=chunk, metadata={\"source\": f\"row_{idx}\", \"chunk_id\": i}))"
   ]
  },
  {
   "cell_type": "code",
   "execution_count": 25,
   "id": "f758930b-5b8a-4537-9451-9d4ecc9275d1",
   "metadata": {},
   "outputs": [
    {
     "data": {
      "text/plain": [
       "1049"
      ]
     },
     "execution_count": 25,
     "metadata": {},
     "output_type": "execute_result"
    }
   ],
   "source": [
    "len(documents)"
   ]
  },
  {
   "cell_type": "markdown",
   "id": "9d34ed2d-656d-4947-ba23-6e08aa6bdcc3",
   "metadata": {},
   "source": [
    "### Buiding the Vector Database"
   ]
  },
  {
   "cell_type": "code",
   "execution_count": 26,
   "id": "66dd445e-e722-484a-8970-b538949a9cfb",
   "metadata": {},
   "outputs": [
    {
     "name": "stdout",
     "output_type": "stream",
     "text": [
      "WARNING:tensorflow:From C:\\Users\\Hari\\RAG-BOT\\Lib\\site-packages\\tf_keras\\src\\losses.py:2976: The name tf.losses.sparse_softmax_cross_entropy is deprecated. Please use tf.compat.v1.losses.sparse_softmax_cross_entropy instead.\n",
      "\n"
     ]
    },
    {
     "name": "stderr",
     "output_type": "stream",
     "text": [
      "📄 Parsing documents: 100%|███████████████████████████████████████████████████████| 1049/1049 [00:01<00:00, 557.51it/s]\n",
      "🔍 Embedding nodes: 100%|██████████████████████████████████████████████████████████| 1049/1049 [02:07<00:00,  8.26it/s]\n"
     ]
    }
   ],
   "source": [
    "from llama_index.core import Document, VectorStoreIndex, StorageContext\n",
    "from llama_index.embeddings.huggingface import HuggingFaceEmbedding\n",
    "from llama_index.vector_stores.chroma import ChromaVectorStore\n",
    "from llama_index.core.node_parser import SimpleNodeParser\n",
    "from llama_index.core.schema import TextNode\n",
    "from chromadb import PersistentClient\n",
    "from tqdm import tqdm\n",
    "\n",
    "# Step 1: Create embed model\n",
    "embed_model = HuggingFaceEmbedding(model_name=\"sentence-transformers/all-MiniLM-L6-v2\")\n",
    "\n",
    "# Step 2: Prepare Chroma vector store\n",
    "persist_dir = \"./chroma_db1\"\n",
    "client = PersistentClient(path=persist_dir)\n",
    "collection = client.get_or_create_collection(\"rag-collection\")\n",
    "vector_store = ChromaVectorStore(chroma_collection=collection, persist_dir=persist_dir)\n",
    "\n",
    "# Step 3: Create storage context\n",
    "storage_context = StorageContext.from_defaults(vector_store=vector_store)\n",
    "\n",
    "# Step 4: Parse documents to nodes\n",
    "parser = SimpleNodeParser()\n",
    "nodes = []\n",
    "for doc in tqdm(documents, desc=\"📄 Parsing documents\"):\n",
    "    nodes.extend(parser.get_nodes_from_documents([doc]))\n",
    "\n",
    "# Step 5: Embed documents (with progress)\n",
    "for node in tqdm(nodes, desc=\"🔍 Embedding nodes\"):\n",
    "    node.embedding = embed_model.get_text_embedding(node.text)"
   ]
  },
  {
   "cell_type": "code",
   "execution_count": 27,
   "id": "fc3ece8e-0431-449f-8cf2-7e7c43764be5",
   "metadata": {},
   "outputs": [],
   "source": [
    "index = VectorStoreIndex(\n",
    "    nodes,\n",
    "    storage_context=storage_context,\n",
    "    embed_model=embed_model\n",
    ")\n",
    "index.storage_context.persist(persist_dir=\"./index\")"
   ]
  },
  {
   "cell_type": "code",
   "execution_count": null,
   "id": "4b31d28b-ec5e-4b03-8dbb-8d29236d0051",
   "metadata": {},
   "outputs": [],
   "source": []
  }
 ],
 "metadata": {
  "kernelspec": {
   "display_name": "Python 3 (ipykernel)",
   "language": "python",
   "name": "python3"
  },
  "language_info": {
   "codemirror_mode": {
    "name": "ipython",
    "version": 3
   },
   "file_extension": ".py",
   "mimetype": "text/x-python",
   "name": "python",
   "nbconvert_exporter": "python",
   "pygments_lexer": "ipython3",
   "version": "3.12.7"
  },
  "widgets": {
   "application/vnd.jupyter.widget-state+json": {
    "state": {},
    "version_major": 2,
    "version_minor": 0
   }
  }
 },
 "nbformat": 4,
 "nbformat_minor": 5
}
