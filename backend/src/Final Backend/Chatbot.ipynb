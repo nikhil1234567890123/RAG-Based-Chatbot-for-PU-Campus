{
 "cells": [
  {
   "cell_type": "code",
   "execution_count": 17,
   "id": "28c0e0b4-17b7-4496-a258-983c4b85d33f",
   "metadata": {},
   "outputs": [
    {
     "data": {
      "text/plain": [
       "True"
      ]
     },
     "execution_count": 17,
     "metadata": {},
     "output_type": "execute_result"
    }
   ],
   "source": [
    "import os\n",
    "from dotenv import load_dotenv\n",
    "\n",
    "load_dotenv()  # Load the .env file"
   ]
  },
  {
   "cell_type": "code",
   "execution_count": 18,
   "id": "82c627b6-9824-45fc-9212-2d364feb456d",
   "metadata": {},
   "outputs": [],
   "source": [
    "from llama_index.llms.groq import Groq\n",
    "from llama_index.core import VectorStoreIndex, load_index_from_storage, StorageContext\n",
    "\n",
    "llm = Groq(model=\"llama3-8b-8192\", api_key=os.getenv(\"GROQ_API_KEY\"))"
   ]
  },
  {
   "cell_type": "code",
   "execution_count": 19,
   "id": "16dbd5af-bb5e-4169-89c7-d1cd5ef57ff3",
   "metadata": {},
   "outputs": [
    {
     "name": "stdout",
     "output_type": "stream",
     "text": [
      "Loading llama_index.core.storage.kvstore.simple_kvstore from ./index\\docstore.json.\n",
      "Loading llama_index.core.storage.kvstore.simple_kvstore from ./index\\index_store.json.\n"
     ]
    }
   ],
   "source": [
    "from llama_index.embeddings.huggingface import HuggingFaceEmbedding\n",
    "from llama_index.vector_stores.chroma import ChromaVectorStore\n",
    "from chromadb import PersistentClient\n",
    "\n",
    "# Load the embedding model explicitly\n",
    "embed_model = HuggingFaceEmbedding(model_name=\"sentence-transformers/all-MiniLM-L6-v2\")\n",
    "\n",
    "persist_dir = \"./chroma_db1\"\n",
    "client = PersistentClient(path=persist_dir)\n",
    "collection = client.get_or_create_collection(\"rag-collection\")\n",
    "vector_store = ChromaVectorStore(chroma_collection=collection, persist_dir=persist_dir)\n",
    "\n",
    "# Use the same embedding model while loading index\n",
    "storage_context = StorageContext.from_defaults(\n",
    "    persist_dir=\"./index\",\n",
    "    vector_store=vector_store\n",
    ")\n",
    "\n",
    "index = load_index_from_storage(storage_context, embed_model=embed_model)"
   ]
  },
  {
   "cell_type": "code",
   "execution_count": 20,
   "id": "dab89034-2357-42cd-b83c-d616df1947b1",
   "metadata": {},
   "outputs": [
    {
     "name": "stdout",
     "output_type": "stream",
     "text": [
      "The admission process at PU involves submitting an admission form, with an additional fee for each additional course applied for. Candidates intending to apply for more than 8 courses must submit another admission form. There are different dates for normal admission, late admission with permission of the chairperson, and late admission with permission of the V.C. Ongoing classes will start from a specified date, and candidates whose result of the lower semester class has not been declared must seek provisional admission.\n"
     ]
    }
   ],
   "source": [
    "query_engine = index.as_query_engine(llm=llm)\n",
    "\n",
    "response = query_engine.query(\"What is the admission process at PU?\")\n",
    "print(response)"
   ]
  },
  {
   "cell_type": "code",
   "execution_count": 21,
   "id": "88a99629-1f18-425d-a369-7ae952a1a4db",
   "metadata": {},
   "outputs": [
    {
     "name": "stdout",
     "output_type": "stream",
     "text": [
      "For admission to the course, a candidate's merit shall be determined on the basis of their score, which is computed as follows: (a) percentage of marks in the qualifying examination, (b) add score of 4 for each of the subjects passed from the subjects referred in 2(1)(a), not exceeding 16 in total, (c) 2 examinations with at least two of the subjects mentioned in (a) securing at least 50 marks in aggregate, (d) 2 examinations who do not cover in (a) and (b) securing at least 55 marks, or (e) any other examination recognized by the university as equivalent to (a), (b), or (c) with requisite percentage of marks.\n"
     ]
    }
   ],
   "source": [
    "query_engine = index.as_query_engine(llm=llm)\n",
    "\n",
    "response = query_engine.query(\"What is the admission criteria?\")\n",
    "print(response)"
   ]
  },
  {
   "cell_type": "code",
   "execution_count": 43,
   "id": "4d482b40-ea79-41a9-8439-1cbb8fe23dd5",
   "metadata": {},
   "outputs": [
    {
     "name": "stdout",
     "output_type": "stream",
     "text": [
      "The tuition fee for the University Institute of Engineering and Technology is $3600 for the first year, with a total fee of $4000. The fee for the second and third years is the same, at $4000.\n"
     ]
    }
   ],
   "source": [
    "query_engine = index.as_query_engine(llm=llm)\n",
    "\n",
    "response = query_engine.query(\"Tell me about the fees structure\")\n",
    "print(response)"
   ]
  },
  {
   "cell_type": "code",
   "execution_count": 44,
   "id": "67707f3f-a069-4b83-85ce-82e86f6c748c",
   "metadata": {},
   "outputs": [
    {
     "name": "stdout",
     "output_type": "stream",
     "text": [
      "No, applicants who have obtained 10+2 through open universities system directly without having any basic qualification for prosecuting such studies are not eligible for admission in the law course.\n"
     ]
    }
   ],
   "source": [
    "query_engine = index.as_query_engine(llm=llm)\n",
    "\n",
    "response = query_engine.query(\"Admission in Law?\")\n",
    "print(response)"
   ]
  },
  {
   "cell_type": "code",
   "execution_count": 22,
   "id": "f27a0800-d115-4c6d-9456-2ae0bdefedaa",
   "metadata": {},
   "outputs": [],
   "source": [
    "from sentence_transformers import CrossEncoder\n",
    "\n",
    "# Load a cross-encoder model for re-ranking\n",
    "reranker = CrossEncoder('cross-encoder/ms-marco-MiniLM-L-6-v2')\n",
    "\n",
    "def rerank(query, docs):\n",
    "    pairs = [[query, doc] for doc in docs]\n",
    "    scores = reranker.predict(pairs)\n",
    "    sorted_docs = [doc for _, doc in sorted(zip(scores, docs), reverse=True)]\n",
    "    return sorted_docs"
   ]
  },
  {
   "cell_type": "code",
   "execution_count": 54,
   "id": "dfecae5d-f267-4f63-bc5c-cd5316c23263",
   "metadata": {},
   "outputs": [
    {
     "name": "stdout",
     "output_type": "stream",
     "text": [
      "To get admission in University Institute of Engineering Technology (UIET), Panjab University, Chandigarh, you can follow these steps:\n",
      "\n",
      "* Check the vacant seats available in the desired course.\n",
      "* Fill out the online admission form and submit it along with the required documents and fee.\n",
      "* For reserved category of sports, take a printout of the online admission form and submit self-attested photocopies of the relevant certificates and undertakings to the Office of the Campus Sports, PU, Chandigarh.\n",
      "* For foreign national students, obtain an eligibility equivalency certificate from the Deputy Registrar (General), Panjab University, Chandigarh, or academic certificates of passing the qualifying or equivalent examination approved by the Association of Indian Universities (AIU), Common Wealth Universities, or International Association of Universities (IAU) as equivalent to the corresponding Indian degrees.\n",
      "* Submit the eligibility certificate along with the required documents and fee.\n",
      "* For NRI/Foreign National students, provide the required certificates and documents, including eligibility equivalency certificate, IELTS/TOEFL score, medium of instruction certificate, copy of passport, and relevant documents to claim NRI/Foreign National seat.\n",
      "\n",
      "Please note that the fee structure and documents required may vary depending on the category and course. You can visit the official website of Panjab University for more information on admission procedures and requirements.\n",
      "\n",
      "Know more about:\n",
      "* UIET courses\n",
      "* Admission process\n",
      "* Eligibility criteria\n"
     ]
    }
   ],
   "source": [
    "query = \"How to get admission in UIET?\"\n",
    "\n",
    "# Retrieve top-10 docs from vector store\n",
    "retriever = index.as_retriever(similarity_top_k=10)\n",
    "nodes = retriever.retrieve(query)\n",
    "doc_texts = [node.get_content() for node in nodes]\n",
    "\n",
    "# Re-rank and pick top 3\n",
    "top_docs = rerank(query, doc_texts)[:3]\n",
    "\n",
    "# Combine top docs into a single context string\n",
    "context = \"\\n\\n---\\n\\n\".join(top_docs)\n",
    "\n",
    "# Format the prompt\n",
    "prompt = f\"\"\"\n",
    "PU stands for Panjab University, Chandigarh and you are PU-Assistant, a helpful and professional virtual guide for students of Panjab University and the students who wish to take admission here.\n",
    "\n",
    "Use only the context provided below to answer the student's question. \n",
    "Follow these instructions strictly:\n",
    "\n",
    "1. If the answer involves steps, forms, rules, or eligibility — present the information in **clear bullet points**.\n",
    "2. If the context includes a **URL or downloadable form**, mention it politely at the end of the answer.\n",
    "3. If the answer is straightforward (like a definition or a one-liner), give a **concise sentence**.\n",
    "4. If any **URL or website link is relevant to the answer**, be sure to **provide it clearly** in your response.\n",
    "5. If the answer is not found in the context, reply: \"**Sorry, I couldn't find that information. You may contact the administration.**\" or \"**Sorry, I couldn't help you with that. You may visit the website.**\" based on what type of question was asked.\n",
    "6. Maintain a **polite and formal tone**, like a university helpdesk.\n",
    "7. Do not use information outside the provided context.\n",
    "8. At the end of your answer, list three possible follow-up questions as **Know more about:**, each written in **no more than 5 words**.\n",
    "\n",
    "Context:\n",
    "{context}\n",
    "\n",
    "Question: {query}\n",
    "\n",
    "Answer:\n",
    "\"\"\"\n",
    "\n",
    "\n",
    "response = llm.complete(prompt)\n",
    "print(response.text)"
   ]
  },
  {
   "cell_type": "code",
   "execution_count": null,
   "id": "827e205f-3fb4-4783-b327-22c99cf8ebd1",
   "metadata": {},
   "outputs": [],
   "source": []
  }
 ],
 "metadata": {
  "kernelspec": {
   "display_name": "Python 3 (ipykernel)",
   "language": "python",
   "name": "python3"
  },
  "language_info": {
   "codemirror_mode": {
    "name": "ipython",
    "version": 3
   },
   "file_extension": ".py",
   "mimetype": "text/x-python",
   "name": "python",
   "nbconvert_exporter": "python",
   "pygments_lexer": "ipython3",
   "version": "3.12.7"
  },
  "widgets": {
   "application/vnd.jupyter.widget-state+json": {
    "state": {},
    "version_major": 2,
    "version_minor": 0
   }
  }
 },
 "nbformat": 4,
 "nbformat_minor": 5
}
