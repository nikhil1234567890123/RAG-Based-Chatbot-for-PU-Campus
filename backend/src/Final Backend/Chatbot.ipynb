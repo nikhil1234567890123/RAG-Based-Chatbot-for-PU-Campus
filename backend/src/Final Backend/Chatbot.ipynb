{
 "cells": [
  {
   "cell_type": "code",
   "execution_count": 54,
   "id": "28c0e0b4-17b7-4496-a258-983c4b85d33f",
   "metadata": {},
   "outputs": [
    {
     "data": {
      "text/plain": [
       "True"
      ]
     },
     "execution_count": 54,
     "metadata": {},
     "output_type": "execute_result"
    }
   ],
   "source": [
    "import os\n",
    "from dotenv import load_dotenv\n",
    "\n",
    "load_dotenv()  # Load the .env file"
   ]
  },
  {
   "cell_type": "code",
   "execution_count": 55,
   "id": "82c627b6-9824-45fc-9212-2d364feb456d",
   "metadata": {},
   "outputs": [],
   "source": [
    "from llama_index.llms.groq import Groq\n",
    "from llama_index.core import VectorStoreIndex, load_index_from_storage, StorageContext\n",
    "\n",
    "llm = Groq(model=\"llama3-8b-8192\", api_key=os.getenv(\"GROQ_API_KEY\"))"
   ]
  },
  {
   "cell_type": "code",
   "execution_count": 56,
   "id": "16dbd5af-bb5e-4169-89c7-d1cd5ef57ff3",
   "metadata": {},
   "outputs": [
    {
     "name": "stdout",
     "output_type": "stream",
     "text": [
      "Loading llama_index.core.storage.kvstore.simple_kvstore from ./index\\docstore.json.\n",
      "Loading llama_index.core.storage.kvstore.simple_kvstore from ./index\\index_store.json.\n"
     ]
    }
   ],
   "source": [
    "from llama_index.embeddings.huggingface import HuggingFaceEmbedding\n",
    "from llama_index.vector_stores.chroma import ChromaVectorStore\n",
    "from chromadb import PersistentClient\n",
    "\n",
    "# Load the embedding model explicitly\n",
    "embed_model = HuggingFaceEmbedding(model_name=\"sentence-transformers/all-MiniLM-L6-v2\")\n",
    "\n",
    "persist_dir = \"./chroma_db2\"\n",
    "client = PersistentClient(path=persist_dir)\n",
    "collection = client.get_or_create_collection(\"rag-collection\")\n",
    "vector_store = ChromaVectorStore(chroma_collection=collection, persist_dir=persist_dir)\n",
    "\n",
    "# Use the same embedding model while loading index\n",
    "storage_context = StorageContext.from_defaults(\n",
    "    persist_dir=\"./index\",\n",
    "    vector_store=vector_store\n",
    ")\n",
    "\n",
    "index = load_index_from_storage(storage_context, embed_model=embed_model)"
   ]
  },
  {
   "cell_type": "code",
   "execution_count": 57,
   "id": "f27a0800-d115-4c6d-9456-2ae0bdefedaa",
   "metadata": {},
   "outputs": [],
   "source": [
    "from sentence_transformers import CrossEncoder\n",
    "\n",
    "# Load a cross-encoder model for re-ranking\n",
    "reranker = CrossEncoder('cross-encoder/ms-marco-MiniLM-L-6-v2')\n",
    "\n",
    "def rerank(query, docs):\n",
    "    pairs = [[query, doc] for doc in docs]\n",
    "    scores = reranker.predict(pairs)\n",
    "    sorted_docs = [doc for _, doc in sorted(zip(scores, docs), reverse=True)]\n",
    "    return sorted_docs"
   ]
  },
  {
   "cell_type": "code",
   "execution_count": 58,
   "id": "dfecae5d-f267-4f63-bc5c-cd5316c23263",
   "metadata": {},
   "outputs": [],
   "source": [
    "def generate_answer(query):\n",
    "    # Retrieve top-10 docs from vector store\n",
    "    retriever = index.as_retriever(similarity_top_k=10)\n",
    "    nodes = retriever.retrieve(query)\n",
    "    doc_texts = [node.get_content() for node in nodes]\n",
    "    \n",
    "    # Re-rank and pick top 3\n",
    "    top_docs = rerank(query, doc_texts)[:3]\n",
    "    \n",
    "    # Combine top docs into a single context string\n",
    "    context = \"\\n\\n---\\n\\n\".join(top_docs)\n",
    "    \n",
    "    # Format the prompt\n",
    "    prompt = f\"\"\"\n",
    "    PU stands for Panjab University, Chandigarh, and you are PU-Assistant — a helpful and professional virtual guide for students of Panjab University and those seeking admission.\n",
    "    \n",
    "    You must strictly use only the information provided below to answer the student's question. Follow these rules carefully:\n",
    "    \n",
    "    1. If the answer involves steps, rules, eligibility, or form-related info — present it in **brief bullet points**.\n",
    "    2. If a **URL or downloadable form** is available, mention it politely at the end.\n",
    "    3. For simple factual or definition-type questions, reply with a **clear, concise sentence**.\n",
    "    4. If a **web link or page** is useful to the question, include it directly in your answer.\n",
    "    5. If the answer cannot be found, respond politely:\n",
    "       - \"**Sorry, I couldn't find that information. You may contact the university administration.**\"\n",
    "       - Or: \"**Sorry, I couldn't help you with that. Please visit the official website for more details.**\"\n",
    "       Choose the most suitable one **without mentioning missing data or sources**.\n",
    "    6. **Do NOT mention anything about “context”, “data not found in context”, or “context doesn’t mention”**. Just respond professionally as a helpdesk would.\n",
    "    7. If both INR (₹) and USD ($) amounts are found, always show only the ₹ fee.\n",
    "    8. Maintain a **formal, polite tone** in every response.\n",
    "    9. At the end, suggest three follow-up questions as:\n",
    "       **Know more about:** (list 3 bullet points, each max 5 words).\n",
    "    10. Do not make up information. Use only what's provided.\n",
    "    \n",
    "    Information:\n",
    "    {context}\n",
    "    \n",
    "    Question: {query}\n",
    "    \n",
    "    Answer:\n",
    "    \"\"\"\n",
    "    \n",
    "    response = llm.complete(prompt)\n",
    "    print(response.text)"
   ]
  },
  {
   "cell_type": "code",
   "execution_count": 59,
   "id": "827e205f-3fb4-4783-b327-22c99cf8ebd1",
   "metadata": {},
   "outputs": [
    {
     "name": "stdin",
     "output_type": "stream",
     "text": [
      "Enter your query:\n",
      " What are the eligibility criteria for the MBA program?\n"
     ]
    },
    {
     "name": "stdout",
     "output_type": "stream",
     "text": [
      "The eligibility criteria for the MBA program at Panjab University are as follows:\n",
      "\n",
      "* A Bachelor's Degree in any stream with not less than 50% marks in aggregate from a recognized University.\n",
      "* Candidates must have appeared in CAT-2023, followed by appearance in Group Discussion and Personal Interview.\n",
      "* 5% concession is admissible in eligibility marks to SC/ST/BC/PwD candidates.\n",
      "\n",
      "Note: The above information is based on the provided Handbook of Information 2025.\n",
      "\n",
      "Know more about:\n",
      "• CAT-2023 requirements\n",
      "• Group Discussion and Personal Interview process\n",
      "• Eligibility marks for reserved categories\n"
     ]
    }
   ],
   "source": [
    "query = input(\"Enter your query:\\n\")\n",
    "\n",
    "generate_answer(query)"
   ]
  },
  {
   "cell_type": "code",
   "execution_count": null,
   "id": "afc21773-3dc0-4691-a1bc-ea8dd44d450b",
   "metadata": {},
   "outputs": [],
   "source": []
  }
 ],
 "metadata": {
  "kernelspec": {
   "display_name": "Python 3 (ipykernel)",
   "language": "python",
   "name": "python3"
  },
  "language_info": {
   "codemirror_mode": {
    "name": "ipython",
    "version": 3
   },
   "file_extension": ".py",
   "mimetype": "text/x-python",
   "name": "python",
   "nbconvert_exporter": "python",
   "pygments_lexer": "ipython3",
   "version": "3.12.7"
  },
  "widgets": {
   "application/vnd.jupyter.widget-state+json": {
    "state": {},
    "version_major": 2,
    "version_minor": 0
   }
  }
 },
 "nbformat": 4,
 "nbformat_minor": 5
}
