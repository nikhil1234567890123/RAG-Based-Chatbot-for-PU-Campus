{
 "cells": [
  {
   "cell_type": "code",
   "execution_count": 26,
   "id": "28c0e0b4-17b7-4496-a258-983c4b85d33f",
   "metadata": {},
   "outputs": [
    {
     "data": {
      "text/plain": [
       "True"
      ]
     },
     "execution_count": 26,
     "metadata": {},
     "output_type": "execute_result"
    }
   ],
   "source": [
    "import os\n",
    "from dotenv import load_dotenv\n",
    "\n",
    "load_dotenv()  # Load the .env file"
   ]
  },
  {
   "cell_type": "code",
   "execution_count": 35,
   "id": "82c627b6-9824-45fc-9212-2d364feb456d",
   "metadata": {},
   "outputs": [],
   "source": [
    "from llama_index.llms.groq import Groq\n",
    "from llama_index.core import VectorStoreIndex, load_index_from_storage, StorageContext\n",
    "\n",
    "llm = Groq(model=\"llama3-8b-8192\", api_key=os.getenv(\"GROQ_API_KEY\"))"
   ]
  },
  {
   "cell_type": "code",
   "execution_count": 41,
   "id": "16dbd5af-bb5e-4169-89c7-d1cd5ef57ff3",
   "metadata": {},
   "outputs": [
    {
     "name": "stdout",
     "output_type": "stream",
     "text": [
      "WARNING:tensorflow:From C:\\Users\\Hari\\RAG-BOT\\Lib\\site-packages\\tf_keras\\src\\losses.py:2976: The name tf.losses.sparse_softmax_cross_entropy is deprecated. Please use tf.compat.v1.losses.sparse_softmax_cross_entropy instead.\n",
      "\n",
      "Loading llama_index.core.storage.kvstore.simple_kvstore from ./index\\docstore.json.\n",
      "Loading llama_index.core.storage.kvstore.simple_kvstore from ./index\\index_store.json.\n"
     ]
    }
   ],
   "source": [
    "from llama_index.embeddings.huggingface import HuggingFaceEmbedding\n",
    "from llama_index.vector_stores.chroma import ChromaVectorStore\n",
    "from chromadb import PersistentClient\n",
    "\n",
    "# Load the embedding model explicitly\n",
    "embed_model = HuggingFaceEmbedding(model_name=\"sentence-transformers/all-MiniLM-L6-v2\")\n",
    "\n",
    "persist_dir = \"./chroma_db\"\n",
    "client = PersistentClient(path=persist_dir)\n",
    "collection = client.get_or_create_collection(\"rag-collection\")\n",
    "vector_store = ChromaVectorStore(chroma_collection=collection, persist_dir=persist_dir)\n",
    "\n",
    "# Use the same embedding model while loading index\n",
    "storage_context = StorageContext.from_defaults(\n",
    "    persist_dir=\"./index\",\n",
    "    vector_store=vector_store\n",
    ")\n",
    "\n",
    "index = load_index_from_storage(storage_context, embed_model=embed_model)"
   ]
  },
  {
   "cell_type": "code",
   "execution_count": 44,
   "id": "dab89034-2357-42cd-b83c-d616df1947b1",
   "metadata": {},
   "outputs": [
    {
     "name": "stdout",
     "output_type": "stream",
     "text": [
      "The admission process typically involves several steps, including the submission of applications, entrance tests, and counselling sessions. The university also provides a handbook of information and admission guidelines to assist students in the admission process. Additionally, international students may need to undergo a migration process, and lateral entry students may have a different admission process. The university also offers online admissions and provides contact information for students to inquire about the admission process.\n"
     ]
    }
   ],
   "source": [
    "query_engine = index.as_query_engine(llm=llm)\n",
    "\n",
    "response = query_engine.query(\"What is the admission process at PU?\")\n",
    "print(response)"
   ]
  },
  {
   "cell_type": "code",
   "execution_count": 50,
   "id": "88a99629-1f18-425d-a369-7ae952a1a4db",
   "metadata": {},
   "outputs": [
    {
     "name": "stdout",
     "output_type": "stream",
     "text": [
      "The admission criteria is not explicitly mentioned in the provided context information. However, it can be inferred that the admission process involves a provisional admission list from waiting candidates, and there are separate lists for different categories such as PWD and SC/ST. Additionally, there is a mention of an entrance test-cum-admission notice for the academic session 2025-2026.\n"
     ]
    }
   ],
   "source": [
    "query_engine = index.as_query_engine(llm=llm)\n",
    "\n",
    "response = query_engine.query(\"What is the admission criteria?\")\n",
    "print(response)"
   ]
  },
  {
   "cell_type": "code",
   "execution_count": null,
   "id": "4d482b40-ea79-41a9-8439-1cbb8fe23dd5",
   "metadata": {},
   "outputs": [],
   "source": []
  }
 ],
 "metadata": {
  "kernelspec": {
   "display_name": "Python 3 (ipykernel)",
   "language": "python",
   "name": "python3"
  },
  "language_info": {
   "codemirror_mode": {
    "name": "ipython",
    "version": 3
   },
   "file_extension": ".py",
   "mimetype": "text/x-python",
   "name": "python",
   "nbconvert_exporter": "python",
   "pygments_lexer": "ipython3",
   "version": "3.12.7"
  },
  "widgets": {
   "application/vnd.jupyter.widget-state+json": {
    "state": {},
    "version_major": 2,
    "version_minor": 0
   }
  }
 },
 "nbformat": 4,
 "nbformat_minor": 5
}
