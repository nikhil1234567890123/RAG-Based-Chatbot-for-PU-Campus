{
 "cells": [
  {
   "cell_type": "code",
   "execution_count": 1,
   "id": "8cd7aa8e-842b-489c-8213-ac1ba9bb98e5",
   "metadata": {},
   "outputs": [
    {
     "name": "stdout",
     "output_type": "stream",
     "text": [
      "Total rows: 3427\n"
     ]
    },
    {
     "data": {
      "text/html": [
       "<div>\n",
       "<style scoped>\n",
       "    .dataframe tbody tr th:only-of-type {\n",
       "        vertical-align: middle;\n",
       "    }\n",
       "\n",
       "    .dataframe tbody tr th {\n",
       "        vertical-align: top;\n",
       "    }\n",
       "\n",
       "    .dataframe thead th {\n",
       "        text-align: right;\n",
       "    }\n",
       "</style>\n",
       "<table border=\"1\" class=\"dataframe\">\n",
       "  <thead>\n",
       "    <tr style=\"text-align: right;\">\n",
       "      <th></th>\n",
       "      <th>URL</th>\n",
       "      <th>Text</th>\n",
       "    </tr>\n",
       "  </thead>\n",
       "  <tbody>\n",
       "    <tr>\n",
       "      <th>0</th>\n",
       "      <td>https://puchd.ac.in/</td>\n",
       "      <td>Official Website of Panjab University Chandiga...</td>\n",
       "    </tr>\n",
       "    <tr>\n",
       "      <th>1</th>\n",
       "      <td>https://pumail.puchd.ac.in/</td>\n",
       "      <td>WebMail Panjab University :: Welcome to WebMai...</td>\n",
       "    </tr>\n",
       "    <tr>\n",
       "      <th>2</th>\n",
       "      <td>https://puchd.ac.in/contactus.php</td>\n",
       "      <td>University Contacts - Panjab University Chandi...</td>\n",
       "    </tr>\n",
       "    <tr>\n",
       "      <th>3</th>\n",
       "      <td>https://puchd.ac.in/screen-reader.php</td>\n",
       "      <td>Screen Reader : Official Website of Panjab Uni...</td>\n",
       "    </tr>\n",
       "    <tr>\n",
       "      <th>4</th>\n",
       "      <td>https://puchd.ac.in/</td>\n",
       "      <td>Official Website of Panjab University Chandiga...</td>\n",
       "    </tr>\n",
       "  </tbody>\n",
       "</table>\n",
       "</div>"
      ],
      "text/plain": [
       "                                     URL  \\\n",
       "0                   https://puchd.ac.in/   \n",
       "1            https://pumail.puchd.ac.in/   \n",
       "2      https://puchd.ac.in/contactus.php   \n",
       "3  https://puchd.ac.in/screen-reader.php   \n",
       "4                   https://puchd.ac.in/   \n",
       "\n",
       "                                                Text  \n",
       "0  Official Website of Panjab University Chandiga...  \n",
       "1  WebMail Panjab University :: Welcome to WebMai...  \n",
       "2  University Contacts - Panjab University Chandi...  \n",
       "3  Screen Reader : Official Website of Panjab Uni...  \n",
       "4  Official Website of Panjab University Chandiga...  "
      ]
     },
     "execution_count": 1,
     "metadata": {},
     "output_type": "execute_result"
    }
   ],
   "source": [
    "import pandas as pd\n",
    "import os\n",
    "\n",
    "# Folder where your 18 CSV files are stored\n",
    "folder_path = 'C:/Users/Hari/RAG-Based Chatbot PU/Playwright/pu_scraped'\n",
    "\n",
    "# List all CSV files in the folder\n",
    "csv_files = [file for file in os.listdir(folder_path) if file.endswith('.csv')]\n",
    "\n",
    "# Load and concatenate all CSVs\n",
    "df_list = [pd.read_csv(os.path.join(folder_path, file)) for file in csv_files]\n",
    "df = pd.concat(df_list, ignore_index=True)\n",
    "\n",
    "# Check result\n",
    "print(f\"Total rows: {df.shape[0]}\")\n",
    "df.head()\n"
   ]
  },
  {
   "cell_type": "code",
   "execution_count": 2,
   "id": "6b7c0a8d-8b59-4b91-95f2-c1bc964676e7",
   "metadata": {},
   "outputs": [
    {
     "data": {
      "text/plain": [
       "(3427, 2)"
      ]
     },
     "execution_count": 2,
     "metadata": {},
     "output_type": "execute_result"
    }
   ],
   "source": [
    "df.shape"
   ]
  },
  {
   "cell_type": "code",
   "execution_count": 3,
   "id": "6f222301-c525-40c6-a5dc-7c3f22085296",
   "metadata": {},
   "outputs": [
    {
     "name": "stdout",
     "output_type": "stream",
     "text": [
      "<class 'pandas.core.frame.DataFrame'>\n",
      "RangeIndex: 3427 entries, 0 to 3426\n",
      "Data columns (total 2 columns):\n",
      " #   Column  Non-Null Count  Dtype \n",
      "---  ------  --------------  ----- \n",
      " 0   URL     3427 non-null   object\n",
      " 1   Text    3427 non-null   object\n",
      "dtypes: object(2)\n",
      "memory usage: 53.7+ KB\n"
     ]
    }
   ],
   "source": [
    "df.info()"
   ]
  },
  {
   "cell_type": "code",
   "execution_count": 4,
   "id": "a27eeab2-628c-4195-929b-2c08c1a6a5b7",
   "metadata": {},
   "outputs": [
    {
     "data": {
      "text/html": [
       "<div>\n",
       "<style scoped>\n",
       "    .dataframe tbody tr th:only-of-type {\n",
       "        vertical-align: middle;\n",
       "    }\n",
       "\n",
       "    .dataframe tbody tr th {\n",
       "        vertical-align: top;\n",
       "    }\n",
       "\n",
       "    .dataframe thead th {\n",
       "        text-align: right;\n",
       "    }\n",
       "</style>\n",
       "<table border=\"1\" class=\"dataframe\">\n",
       "  <thead>\n",
       "    <tr style=\"text-align: right;\">\n",
       "      <th></th>\n",
       "      <th>URL</th>\n",
       "      <th>Text</th>\n",
       "    </tr>\n",
       "  </thead>\n",
       "  <tbody>\n",
       "    <tr>\n",
       "      <th>count</th>\n",
       "      <td>3427</td>\n",
       "      <td>3427</td>\n",
       "    </tr>\n",
       "    <tr>\n",
       "      <th>unique</th>\n",
       "      <td>530</td>\n",
       "      <td>392</td>\n",
       "    </tr>\n",
       "    <tr>\n",
       "      <th>top</th>\n",
       "      <td>https://puchd.ac.in</td>\n",
       "      <td>Official Website of Panjab University Chandiga...</td>\n",
       "    </tr>\n",
       "    <tr>\n",
       "      <th>freq</th>\n",
       "      <td>176</td>\n",
       "      <td>207</td>\n",
       "    </tr>\n",
       "  </tbody>\n",
       "</table>\n",
       "</div>"
      ],
      "text/plain": [
       "                        URL                                               Text\n",
       "count                  3427                                               3427\n",
       "unique                  530                                                392\n",
       "top     https://puchd.ac.in  Official Website of Panjab University Chandiga...\n",
       "freq                    176                                                207"
      ]
     },
     "execution_count": 4,
     "metadata": {},
     "output_type": "execute_result"
    }
   ],
   "source": [
    "df.describe()"
   ]
  },
  {
   "cell_type": "markdown",
   "id": "8ba509a8-501f-450b-9d6f-ac7485abdd21",
   "metadata": {},
   "source": [
    "### There are no null values."
   ]
  },
  {
   "cell_type": "markdown",
   "id": "1c188ccf-9c1d-420a-a874-415afa26a3e3",
   "metadata": {},
   "source": [
    "### Data Cleaning"
   ]
  },
  {
   "cell_type": "code",
   "execution_count": 5,
   "id": "f1f55bce-a347-4e47-9838-a6444a5fa8d8",
   "metadata": {},
   "outputs": [
    {
     "data": {
      "text/html": [
       "<div>\n",
       "<style scoped>\n",
       "    .dataframe tbody tr th:only-of-type {\n",
       "        vertical-align: middle;\n",
       "    }\n",
       "\n",
       "    .dataframe tbody tr th {\n",
       "        vertical-align: top;\n",
       "    }\n",
       "\n",
       "    .dataframe thead th {\n",
       "        text-align: right;\n",
       "    }\n",
       "</style>\n",
       "<table border=\"1\" class=\"dataframe\">\n",
       "  <thead>\n",
       "    <tr style=\"text-align: right;\">\n",
       "      <th></th>\n",
       "      <th>URL</th>\n",
       "      <th>Text</th>\n",
       "      <th>Cleaned_text</th>\n",
       "    </tr>\n",
       "  </thead>\n",
       "  <tbody>\n",
       "    <tr>\n",
       "      <th>0</th>\n",
       "      <td>https://puchd.ac.in/</td>\n",
       "      <td>Official Website of Panjab University Chandiga...</td>\n",
       "      <td>Official Website of Panjab University Chandiga...</td>\n",
       "    </tr>\n",
       "    <tr>\n",
       "      <th>1</th>\n",
       "      <td>https://pumail.puchd.ac.in/</td>\n",
       "      <td>WebMail Panjab University :: Welcome to WebMai...</td>\n",
       "      <td>WebMail Panjab University Welcome to WebMail P...</td>\n",
       "    </tr>\n",
       "    <tr>\n",
       "      <th>2</th>\n",
       "      <td>https://puchd.ac.in/contactus.php</td>\n",
       "      <td>University Contacts - Panjab University Chandi...</td>\n",
       "      <td>University Contacts - Panjab University Chandi...</td>\n",
       "    </tr>\n",
       "    <tr>\n",
       "      <th>3</th>\n",
       "      <td>https://puchd.ac.in/screen-reader.php</td>\n",
       "      <td>Screen Reader : Official Website of Panjab Uni...</td>\n",
       "      <td>Screen Reader Official Website of Panjab Unive...</td>\n",
       "    </tr>\n",
       "    <tr>\n",
       "      <th>4</th>\n",
       "      <td>https://puchd.ac.in/</td>\n",
       "      <td>Official Website of Panjab University Chandiga...</td>\n",
       "      <td>Official Website of Panjab University Chandiga...</td>\n",
       "    </tr>\n",
       "  </tbody>\n",
       "</table>\n",
       "</div>"
      ],
      "text/plain": [
       "                                     URL  \\\n",
       "0                   https://puchd.ac.in/   \n",
       "1            https://pumail.puchd.ac.in/   \n",
       "2      https://puchd.ac.in/contactus.php   \n",
       "3  https://puchd.ac.in/screen-reader.php   \n",
       "4                   https://puchd.ac.in/   \n",
       "\n",
       "                                                Text  \\\n",
       "0  Official Website of Panjab University Chandiga...   \n",
       "1  WebMail Panjab University :: Welcome to WebMai...   \n",
       "2  University Contacts - Panjab University Chandi...   \n",
       "3  Screen Reader : Official Website of Panjab Uni...   \n",
       "4  Official Website of Panjab University Chandiga...   \n",
       "\n",
       "                                        Cleaned_text  \n",
       "0  Official Website of Panjab University Chandiga...  \n",
       "1  WebMail Panjab University Welcome to WebMail P...  \n",
       "2  University Contacts - Panjab University Chandi...  \n",
       "3  Screen Reader Official Website of Panjab Unive...  \n",
       "4  Official Website of Panjab University Chandiga...  "
      ]
     },
     "execution_count": 5,
     "metadata": {},
     "output_type": "execute_result"
    }
   ],
   "source": [
    "import neattext.functions as nfx\n",
    "import re\n",
    "\n",
    "df['Cleaned_text'] = df['Text'].apply(lambda x: nfx.remove_multiple_spaces(x))\n",
    "df['Cleaned_text'] = df['Cleaned_text'].apply(lambda x: re.sub(r'\\s+', ' ', re.sub(r'[^A-Za-z0-9-(-)\\s]', ' ', x)).strip())\n",
    "df['Cleaned_text'] = df['Cleaned_text'].apply(lambda x: x.strip())\n",
    "\n",
    "df.head()"
   ]
  },
  {
   "cell_type": "code",
   "execution_count": 6,
   "id": "db870d61-6876-4dc3-9d4f-4ae983d7bd6d",
   "metadata": {},
   "outputs": [],
   "source": [
    "df['Cleaned_text'] = df['Cleaned_text'].apply(lambda x: x.lower())"
   ]
  },
  {
   "cell_type": "code",
   "execution_count": 7,
   "id": "06992adb-6c57-44b8-945b-0c5ce3d241c7",
   "metadata": {},
   "outputs": [
    {
     "data": {
      "text/html": [
       "<div>\n",
       "<style scoped>\n",
       "    .dataframe tbody tr th:only-of-type {\n",
       "        vertical-align: middle;\n",
       "    }\n",
       "\n",
       "    .dataframe tbody tr th {\n",
       "        vertical-align: top;\n",
       "    }\n",
       "\n",
       "    .dataframe thead th {\n",
       "        text-align: right;\n",
       "    }\n",
       "</style>\n",
       "<table border=\"1\" class=\"dataframe\">\n",
       "  <thead>\n",
       "    <tr style=\"text-align: right;\">\n",
       "      <th></th>\n",
       "      <th>URL</th>\n",
       "      <th>Text</th>\n",
       "      <th>Cleaned_text</th>\n",
       "    </tr>\n",
       "  </thead>\n",
       "  <tbody>\n",
       "    <tr>\n",
       "      <th>0</th>\n",
       "      <td>https://puchd.ac.in/</td>\n",
       "      <td>Official Website of Panjab University Chandiga...</td>\n",
       "      <td>official website of panjab university chandiga...</td>\n",
       "    </tr>\n",
       "    <tr>\n",
       "      <th>1</th>\n",
       "      <td>https://pumail.puchd.ac.in/</td>\n",
       "      <td>WebMail Panjab University :: Welcome to WebMai...</td>\n",
       "      <td>webmail panjab university welcome to webmail p...</td>\n",
       "    </tr>\n",
       "    <tr>\n",
       "      <th>2</th>\n",
       "      <td>https://puchd.ac.in/contactus.php</td>\n",
       "      <td>University Contacts - Panjab University Chandi...</td>\n",
       "      <td>university contacts - panjab university chandi...</td>\n",
       "    </tr>\n",
       "    <tr>\n",
       "      <th>3</th>\n",
       "      <td>https://puchd.ac.in/screen-reader.php</td>\n",
       "      <td>Screen Reader : Official Website of Panjab Uni...</td>\n",
       "      <td>screen reader official website of panjab unive...</td>\n",
       "    </tr>\n",
       "    <tr>\n",
       "      <th>4</th>\n",
       "      <td>https://puchd.ac.in/</td>\n",
       "      <td>Official Website of Panjab University Chandiga...</td>\n",
       "      <td>official website of panjab university chandiga...</td>\n",
       "    </tr>\n",
       "  </tbody>\n",
       "</table>\n",
       "</div>"
      ],
      "text/plain": [
       "                                     URL  \\\n",
       "0                   https://puchd.ac.in/   \n",
       "1            https://pumail.puchd.ac.in/   \n",
       "2      https://puchd.ac.in/contactus.php   \n",
       "3  https://puchd.ac.in/screen-reader.php   \n",
       "4                   https://puchd.ac.in/   \n",
       "\n",
       "                                                Text  \\\n",
       "0  Official Website of Panjab University Chandiga...   \n",
       "1  WebMail Panjab University :: Welcome to WebMai...   \n",
       "2  University Contacts - Panjab University Chandi...   \n",
       "3  Screen Reader : Official Website of Panjab Uni...   \n",
       "4  Official Website of Panjab University Chandiga...   \n",
       "\n",
       "                                        Cleaned_text  \n",
       "0  official website of panjab university chandiga...  \n",
       "1  webmail panjab university welcome to webmail p...  \n",
       "2  university contacts - panjab university chandi...  \n",
       "3  screen reader official website of panjab unive...  \n",
       "4  official website of panjab university chandiga...  "
      ]
     },
     "execution_count": 7,
     "metadata": {},
     "output_type": "execute_result"
    }
   ],
   "source": [
    "df.head()"
   ]
  },
  {
   "cell_type": "code",
   "execution_count": 8,
   "id": "ea36c054-9918-4b72-8459-550c04fbec68",
   "metadata": {},
   "outputs": [],
   "source": [
    "from transformers import AutoTokenizer\n",
    "tokenizer = AutoTokenizer.from_pretrained(\"google/long-t5-tglobal-base\")"
   ]
  },
  {
   "cell_type": "code",
   "execution_count": 9,
   "id": "7620850e-e806-42f8-985e-7a2cf5e6eed7",
   "metadata": {},
   "outputs": [],
   "source": [
    "max_tokens = 512\n",
    "stride = 50  # Optional overlap between chunks\n",
    "\n",
    "def chunk_text_token_based(text, tokenizer, max_tokens=512, stride=50):\n",
    "    tokens = tokenizer.encode(text, add_special_tokens=False, truncation=False)\n",
    "    chunks = []\n",
    "    for i in range(0, len(tokens), max_tokens - stride):\n",
    "        chunk_tokens = tokens[i:i + max_tokens]\n",
    "        chunk = tokenizer.decode(chunk_tokens, skip_special_tokens=True)\n",
    "        chunks.append(chunk)\n",
    "    return chunks"
   ]
  },
  {
   "cell_type": "code",
   "execution_count": 10,
   "id": "522d406a-804d-4236-87cf-edec3b5a4b6b",
   "metadata": {},
   "outputs": [],
   "source": [
    "df['Chunks'] = df['Cleaned_text'].apply(lambda x: chunk_text_token_based(x, tokenizer))"
   ]
  },
  {
   "cell_type": "code",
   "execution_count": 11,
   "id": "2f02c141-e24f-46b4-8e32-2023fe5b7936",
   "metadata": {},
   "outputs": [
    {
     "data": {
      "text/html": [
       "<div>\n",
       "<style scoped>\n",
       "    .dataframe tbody tr th:only-of-type {\n",
       "        vertical-align: middle;\n",
       "    }\n",
       "\n",
       "    .dataframe tbody tr th {\n",
       "        vertical-align: top;\n",
       "    }\n",
       "\n",
       "    .dataframe thead th {\n",
       "        text-align: right;\n",
       "    }\n",
       "</style>\n",
       "<table border=\"1\" class=\"dataframe\">\n",
       "  <thead>\n",
       "    <tr style=\"text-align: right;\">\n",
       "      <th></th>\n",
       "      <th>URL</th>\n",
       "      <th>Text</th>\n",
       "      <th>Cleaned_text</th>\n",
       "      <th>Chunks</th>\n",
       "    </tr>\n",
       "  </thead>\n",
       "  <tbody>\n",
       "    <tr>\n",
       "      <th>0</th>\n",
       "      <td>https://puchd.ac.in/</td>\n",
       "      <td>Official Website of Panjab University Chandiga...</td>\n",
       "      <td>official website of panjab university chandiga...</td>\n",
       "      <td>[official website of panjab university chandig...</td>\n",
       "    </tr>\n",
       "    <tr>\n",
       "      <th>1</th>\n",
       "      <td>https://pumail.puchd.ac.in/</td>\n",
       "      <td>WebMail Panjab University :: Welcome to WebMai...</td>\n",
       "      <td>webmail panjab university welcome to webmail p...</td>\n",
       "      <td>[webmail panjab university welcome to webmail ...</td>\n",
       "    </tr>\n",
       "    <tr>\n",
       "      <th>2</th>\n",
       "      <td>https://puchd.ac.in/contactus.php</td>\n",
       "      <td>University Contacts - Panjab University Chandi...</td>\n",
       "      <td>university contacts - panjab university chandi...</td>\n",
       "      <td>[university contacts - panjab university chand...</td>\n",
       "    </tr>\n",
       "    <tr>\n",
       "      <th>3</th>\n",
       "      <td>https://puchd.ac.in/screen-reader.php</td>\n",
       "      <td>Screen Reader : Official Website of Panjab Uni...</td>\n",
       "      <td>screen reader official website of panjab unive...</td>\n",
       "      <td>[screen reader official website of panjab univ...</td>\n",
       "    </tr>\n",
       "    <tr>\n",
       "      <th>4</th>\n",
       "      <td>https://puchd.ac.in/</td>\n",
       "      <td>Official Website of Panjab University Chandiga...</td>\n",
       "      <td>official website of panjab university chandiga...</td>\n",
       "      <td>[official website of panjab university chandig...</td>\n",
       "    </tr>\n",
       "  </tbody>\n",
       "</table>\n",
       "</div>"
      ],
      "text/plain": [
       "                                     URL  \\\n",
       "0                   https://puchd.ac.in/   \n",
       "1            https://pumail.puchd.ac.in/   \n",
       "2      https://puchd.ac.in/contactus.php   \n",
       "3  https://puchd.ac.in/screen-reader.php   \n",
       "4                   https://puchd.ac.in/   \n",
       "\n",
       "                                                Text  \\\n",
       "0  Official Website of Panjab University Chandiga...   \n",
       "1  WebMail Panjab University :: Welcome to WebMai...   \n",
       "2  University Contacts - Panjab University Chandi...   \n",
       "3  Screen Reader : Official Website of Panjab Uni...   \n",
       "4  Official Website of Panjab University Chandiga...   \n",
       "\n",
       "                                        Cleaned_text  \\\n",
       "0  official website of panjab university chandiga...   \n",
       "1  webmail panjab university welcome to webmail p...   \n",
       "2  university contacts - panjab university chandi...   \n",
       "3  screen reader official website of panjab unive...   \n",
       "4  official website of panjab university chandiga...   \n",
       "\n",
       "                                              Chunks  \n",
       "0  [official website of panjab university chandig...  \n",
       "1  [webmail panjab university welcome to webmail ...  \n",
       "2  [university contacts - panjab university chand...  \n",
       "3  [screen reader official website of panjab univ...  \n",
       "4  [official website of panjab university chandig...  "
      ]
     },
     "execution_count": 11,
     "metadata": {},
     "output_type": "execute_result"
    }
   ],
   "source": [
    "df.head()"
   ]
  },
  {
   "cell_type": "markdown",
   "id": "4ad4b07c-4bbd-4d14-8b7f-493ed521a7e2",
   "metadata": {},
   "source": [
    "### Flatten the Chunks for Indexing"
   ]
  },
  {
   "cell_type": "code",
   "execution_count": 16,
   "id": "b4988145-2247-4956-a364-2303608504f4",
   "metadata": {},
   "outputs": [],
   "source": [
    "from llama_index.core import Document\n",
    "\n",
    "documents = []\n",
    "for idx, row in df.iterrows():\n",
    "    for i, chunk in enumerate(row['Chunks']):\n",
    "        documents.append(Document(text=chunk, metadata={\"source\": f\"row_{idx}\", \"chunk_id\": i}))"
   ]
  },
  {
   "cell_type": "code",
   "execution_count": 17,
   "id": "19a6d933-234f-4f89-b296-e3ef143e9c24",
   "metadata": {},
   "outputs": [
    {
     "data": {
      "text/plain": [
       "41974"
      ]
     },
     "execution_count": 17,
     "metadata": {},
     "output_type": "execute_result"
    }
   ],
   "source": [
    "len(documents)"
   ]
  },
  {
   "cell_type": "markdown",
   "id": "be07470b-2955-4b96-8f86-49b1e13f55a5",
   "metadata": {},
   "source": [
    "### Build and Persist the Index"
   ]
  },
  {
   "cell_type": "code",
   "execution_count": 18,
   "id": "28965ee7-83cc-4427-bbcc-5ade86d21f59",
   "metadata": {},
   "outputs": [
    {
     "name": "stderr",
     "output_type": "stream",
     "text": [
      "📄 Parsing documents: 100%|█████████████████████████████████████████████████████| 41974/41974 [01:13<00:00, 573.82it/s]\n",
      "🔍 Embedding nodes: 100%|██████████████████████████████████████████████████████| 41974/41974 [1:21:04<00:00,  8.63it/s]\n"
     ]
    }
   ],
   "source": [
    "from llama_index.core import Document, VectorStoreIndex, StorageContext\n",
    "from llama_index.embeddings.huggingface import HuggingFaceEmbedding\n",
    "from llama_index.vector_stores.chroma import ChromaVectorStore\n",
    "from llama_index.core.node_parser import SimpleNodeParser\n",
    "from llama_index.core.schema import TextNode\n",
    "from chromadb import PersistentClient\n",
    "from tqdm import tqdm\n",
    "\n",
    "# Step 1: Create embed model\n",
    "embed_model = HuggingFaceEmbedding(model_name=\"sentence-transformers/all-MiniLM-L6-v2\")\n",
    "\n",
    "# Step 2: Prepare Chroma vector store\n",
    "persist_dir = \"./chroma_db\"\n",
    "client = PersistentClient(path=persist_dir)\n",
    "collection = client.get_or_create_collection(\"rag-collection\")\n",
    "vector_store = ChromaVectorStore(chroma_collection=collection, persist_dir=persist_dir)\n",
    "\n",
    "# Step 3: Create storage context\n",
    "storage_context = StorageContext.from_defaults(vector_store=vector_store)\n",
    "\n",
    "# Step 4: Parse documents to nodes\n",
    "parser = SimpleNodeParser()\n",
    "nodes = []\n",
    "for doc in tqdm(documents, desc=\"📄 Parsing documents\"):\n",
    "    nodes.extend(parser.get_nodes_from_documents([doc]))\n",
    "\n",
    "# Step 5: Embed documents (with progress)\n",
    "for node in tqdm(nodes, desc=\"🔍 Embedding nodes\"):\n",
    "    node.embedding = embed_model.get_text_embedding(node.text)"
   ]
  },
  {
   "cell_type": "code",
   "execution_count": 19,
   "id": "2e316f59-94f6-4718-b0c0-770ba8d7fd0e",
   "metadata": {},
   "outputs": [],
   "source": [
    "index = VectorStoreIndex(\n",
    "    nodes,\n",
    "    storage_context=storage_context,\n",
    "    embed_model=embed_model\n",
    ")\n",
    "index.storage_context.persist(persist_dir=\"./index\")\n"
   ]
  },
  {
   "cell_type": "code",
   "execution_count": null,
   "id": "8c924818-c38f-4b51-8896-b64a1d662b9b",
   "metadata": {},
   "outputs": [],
   "source": []
  }
 ],
 "metadata": {
  "kernelspec": {
   "display_name": "Python 3 (ipykernel)",
   "language": "python",
   "name": "python3"
  },
  "language_info": {
   "codemirror_mode": {
    "name": "ipython",
    "version": 3
   },
   "file_extension": ".py",
   "mimetype": "text/x-python",
   "name": "python",
   "nbconvert_exporter": "python",
   "pygments_lexer": "ipython3",
   "version": "3.12.7"
  },
  "widgets": {
   "application/vnd.jupyter.widget-state+json": {
    "state": {},
    "version_major": 2,
    "version_minor": 0
   }
  }
 },
 "nbformat": 4,
 "nbformat_minor": 5
}
